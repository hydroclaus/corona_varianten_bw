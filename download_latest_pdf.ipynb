{
 "cells": [
  {
   "cell_type": "code",
   "execution_count": 7,
   "metadata": {},
   "outputs": [],
   "source": [
    "from requests import get\n",
    "from urllib.parse import urljoin\n",
    "from os import path, getcwd\n",
    "from bs4 import BeautifulSoup as soup\n",
    "from sys import argv\n",
    "\n",
    "import pathlib"
   ]
  },
  {
   "cell_type": "code",
   "execution_count": 8,
   "metadata": {},
   "outputs": [],
   "source": [
    "base_url = 'https://www.gesundheitsamt-bw.de/lga/DE/Fachinformationen/Infodienste_Newsletter/InfektNews/Seiten/Lagebericht_covid-19.aspx'"
   ]
  },
  {
   "cell_type": "code",
   "execution_count": 9,
   "metadata": {},
   "outputs": [],
   "source": [
    "def get_page(base_url):\n",
    "    req= get(base_url)\n",
    "    if req.status_code==200:\n",
    "        return req.text\n",
    "    raise Exception('Error {0}'.format(req.status_code))\n",
    "    \n",
    "def get_all_links(html):\n",
    "    bs= soup(html)\n",
    "    links= bs.findAll('a')\n",
    "    return links"
   ]
  },
  {
   "cell_type": "code",
   "execution_count": 10,
   "metadata": {},
   "outputs": [
    {
     "name": "stdout",
     "output_type": "stream",
     "text": [
      "COVID_Lagebericht_LGA_210309.pdf\n",
      "COVID_Lagebericht_LGA_210308.pdf\n",
      "COVID_Lagebericht_LGA_210307.pdf\n",
      "COVID_Lagebericht_LGA_210306.pdf\n",
      "COVID_Lagebericht_LGA_210305.pdf\n",
      "COVID_Lagebericht_LGA_210304.pdf\n",
      "COVID_Lagebericht_LGA_210303.pdf\n",
      "COVID_Lagebericht_LGA_210302.pdf\n",
      "COVID_Lagebericht_LGA_210301.pdf\n",
      "COVID_Lagebericht_LGA_210228.pdf\n",
      "COVID_Lagebericht_LGA_210227.pdf\n",
      "COVID_Lagebericht_LGA_210226.pdf\n",
      "COVID_Lagebericht_LGA_210225.pdf\n",
      "COVID_Lagebericht_LGA_210224.pdf\n",
      "COVID_Lagebericht_LGA_210223.pdf\n",
      "COVID_Lagebericht_LGA_210222.pdf\n",
      "COVID_Lagebericht_LGA_210221.pdf\n",
      "COVID_Lagebericht_LGA_210220.pdf\n",
      "COVID_Lagebericht_LGA_210219.pdf\n",
      "COVID_Lagebericht_LGA_210218.pdf\n",
      "COVID_Lagebericht_LGA_210217.pdf\n",
      "COVID_Lagebericht_LGA_210216.pdf\n",
      "COVID_Lagebericht_LGA_210215.pdf\n",
      "COVID_Lagebericht_LGA_210214.pdf\n",
      "COVID_Lagebericht_LGA_210213.pdf\n",
      "COVID_Lagebericht_LGA_210212.pdf\n",
      "COVID_Lagebericht_LGA_210211.pdf\n",
      "COVID_Lagebericht_LGA_210210.pdf\n",
      "COVID_Lagebericht_LGA_210209.pdf\n",
      "COVID_Lagebericht_LGA_210208.pdf\n"
     ]
    }
   ],
   "source": [
    "# find what is on the server\n",
    "html = get_page(base_url)\n",
    "links= get_all_links(html)\n",
    "list_links=[]\n",
    "if len(links)==0:\n",
    "    raise Exception('No links found on the webpage')\n",
    "n_pdfs= 0\n",
    "for link in links:\n",
    "    try:\n",
    "        if (link['href'][-4:] == '.pdf') and (link['href'].startswith('/lga')):\n",
    "            #print(link['href'])\n",
    "            list_links.append(link)\n",
    "    except:\n",
    "        pass\n",
    "    \n",
    "    \n",
    "filenames_on_server = []\n",
    "for cur_link in list_links:\n",
    "    cur_fname = cur_link['href'].rsplit('/', 1)[-1]\n",
    "    filenames_on_server.append([cur_link, cur_fname])\n",
    "    \n",
    "# print filenames on server just to be sure\n",
    "for item in filenames_on_server:\n",
    "    print(item[1])"
   ]
  },
  {
   "cell_type": "markdown",
   "metadata": {},
   "source": [
    "find what is locally on disk"
   ]
  },
  {
   "cell_type": "code",
   "execution_count": 11,
   "metadata": {},
   "outputs": [
    {
     "name": "stdout",
     "output_type": "stream",
     "text": [
      "['COVID_Lagebericht_LGA_210123.pdf', 'COVID_Lagebericht_LGA_210122.pdf', 'COVID_Lagebericht_LGA_210308.pdf', '210210_COVID_Tagesbericht_LGA.pdf', 'COVID_Lagebericht_LGA_210121.pdf', 'COVID_Lagebericht_LGA_210125.pdf', 'COVID_Lagebericht_LGA_210131.pdf', 'COVID_Lagebericht_LGA_210130.pdf', 'COVID_Lagebericht_LGA_210124.pdf', 'COVID_Lagebericht_LGA_210126.pdf', 'COVID_Lagebericht_LGA_210127.pdf', 'COVID_Lagebericht_LGA_210222.pdf', 'COVID_Lagebericht_LGA_210223.pdf', 'COVID_Lagebericht_LGA_210221.pdf', 'COVID_Lagebericht_LGA_210209.pdf', 'COVID_Lagebericht_LGA_210208.pdf', 'COVID_Lagebericht_LGA_210220.pdf', 'COVID_Lagebericht_LGA_210218.pdf', 'COVID_Lagebericht_LGA_210224.pdf', 'COVID_Lagebericht_LGA_210225.pdf', 'COVID_Lagebericht_LGA_210219.pdf', 'COVID_Lagebericht_LGA_210227.pdf', 'COVID_Lagebericht_LGA_210226.pdf', 'COVID_Lagebericht_LGA_210203.pdf', 'COVID_Lagebericht_LGA_210217.pdf', 'COVID_Lagebericht_LGA_210216.pdf', 'COVID_Lagebericht_LGA_210202.pdf', 'COVID_Lagebericht_LGA_210214.pdf', 'COVID_Lagebericht_LGA_210228.pdf', 'COVID_Lagebericht_LGA_210201.pdf', 'COVID_Lagebericht_LGA_210215.pdf', 'COVID_Lagebericht_LGA_210211.pdf', 'COVID_Lagebericht_LGA_210205.pdf', '210209_COVID_Tagesbericht_LGA.pdf', 'COVID_Lagebericht_LGA_210204.pdf', 'COVID_Lagebericht_LGA_210210.pdf', 'COVID_Lagebericht_LGA_210206.pdf', 'COVID_Lagebericht_LGA_210212.pdf', 'COVID_Lagebericht_LGA_210213.pdf', 'COVID_Lagebericht_LGA_210207.pdf', 'COVID_Lagebericht_LGA_210301.pdf', '210208_COVID_Tagesbericht_LGA.pdf', 'COVID_Lagebericht_LGA_210303.pdf', 'COVID_Lagebericht_LGA_210129.pdf', 'COVID_Lagebericht_LGA_210128.pdf', 'COVID_Lagebericht_LGA_210302.pdf', 'COVID_Lagebericht_LGA_210306.pdf', 'COVID_Lagebericht_LGA_210307.pdf', 'COVID_Lagebericht_LGA_210305.pdf', 'COVID_Lagebericht_LGA_210304.pdf']\n"
     ]
    }
   ],
   "source": [
    "p = pathlib.Path(pathlib.Path.cwd() / 'pdfs' ).glob('**/*')\n",
    "filenames_on_hd = [x.name for x in p if x.is_file()]\n",
    "print(filenames_on_hd)"
   ]
  },
  {
   "cell_type": "code",
   "execution_count": 12,
   "metadata": {},
   "outputs": [
    {
     "name": "stdout",
     "output_type": "stream",
     "text": [
      "need to copy COVID_Lagebericht_LGA_210309.pdf on HD\n",
      "    /Users/claushaslauer/Documents/_CodeDev/corona_varianten_bw/pdfs/COVID_Lagebericht_LGA_210309.pdf\n",
      "   file is copied\n"
     ]
    }
   ],
   "source": [
    "for file_on_server in filenames_on_server:\n",
    "    # index 0 is the html link, index 0 is the filename only\n",
    "    if file_on_server[1] not in filenames_on_hd:\n",
    "        print(f'need to copy {file_on_server[1]} on HD')\n",
    "        content= get(urljoin(base_url, file_on_server[0]['href']))\n",
    "        if content.status_code==200 and content.headers['content-type']=='application/pdf':\n",
    "            cur_fname = file_on_server[0].text + '.pdf'\n",
    "            cur_path_fname = pathlib.Path.cwd() / 'pdfs' / cur_fname\n",
    "            print(f'    {cur_path_fname}')\n",
    "            with open(cur_path_fname, 'wb') as pdf:\n",
    "                pdf.write(content.content)\n",
    "                print('   file is copied')"
   ]
  },
  {
   "cell_type": "code",
   "execution_count": null,
   "metadata": {},
   "outputs": [],
   "source": []
  }
 ],
 "metadata": {
  "kernelspec": {
   "display_name": "Python 3",
   "language": "python",
   "name": "python3"
  },
  "language_info": {
   "codemirror_mode": {
    "name": "ipython",
    "version": 3
   },
   "file_extension": ".py",
   "mimetype": "text/x-python",
   "name": "python",
   "nbconvert_exporter": "python",
   "pygments_lexer": "ipython3",
   "version": "3.8.5"
  }
 },
 "nbformat": 4,
 "nbformat_minor": 4
}
