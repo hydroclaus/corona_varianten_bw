{
 "cells": [
  {
   "cell_type": "code",
   "execution_count": 9,
   "id": "every-desire",
   "metadata": {},
   "outputs": [],
   "source": [
    "import numpy as np\n",
    "import pandas as pd\n",
    "import matplotlib.pylab as plt\n",
    "import seaborn as sn"
   ]
  },
  {
   "cell_type": "code",
   "execution_count": 30,
   "id": "attended-beverage",
   "metadata": {},
   "outputs": [],
   "source": [
    "agestruct = pd.read_csv('./data/Altersstruktur_BW.csv',\n",
    "                        sep=';',\n",
    "                        comment='#')"
   ]
  },
  {
   "cell_type": "code",
   "execution_count": 31,
   "id": "patient-chrome",
   "metadata": {},
   "outputs": [
    {
     "data": {
      "text/html": [
       "<div>\n",
       "<style scoped>\n",
       "    .dataframe tbody tr th:only-of-type {\n",
       "        vertical-align: middle;\n",
       "    }\n",
       "\n",
       "    .dataframe tbody tr th {\n",
       "        vertical-align: top;\n",
       "    }\n",
       "\n",
       "    .dataframe thead th {\n",
       "        text-align: right;\n",
       "    }\n",
       "</style>\n",
       "<table border=\"1\" class=\"dataframe\">\n",
       "  <thead>\n",
       "    <tr style=\"text-align: right;\">\n",
       "      <th></th>\n",
       "      <th>Im_Alter_von</th>\n",
       "      <th>2005_n</th>\n",
       "      <th>2005_perc</th>\n",
       "      <th>2010_n</th>\n",
       "      <th>2010_perc</th>\n",
       "      <th>2015_n</th>\n",
       "      <th>2015_perc</th>\n",
       "      <th>2019_n</th>\n",
       "      <th>2019_perc</th>\n",
       "    </tr>\n",
       "  </thead>\n",
       "  <tbody>\n",
       "    <tr>\n",
       "      <th>0</th>\n",
       "      <td>unter 1 Jahr</td>\n",
       "      <td>94424</td>\n",
       "      <td>0.9</td>\n",
       "      <td>90868</td>\n",
       "      <td>0.8</td>\n",
       "      <td>101417</td>\n",
       "      <td>0.9</td>\n",
       "      <td>108303</td>\n",
       "      <td>1.0</td>\n",
       "    </tr>\n",
       "    <tr>\n",
       "      <th>1</th>\n",
       "      <td>1 Jahr</td>\n",
       "      <td>97531</td>\n",
       "      <td>0.9</td>\n",
       "      <td>90592</td>\n",
       "      <td>0.8</td>\n",
       "      <td>99912</td>\n",
       "      <td>0.9</td>\n",
       "      <td>110182</td>\n",
       "      <td>1.0</td>\n",
       "    </tr>\n",
       "    <tr>\n",
       "      <th>2</th>\n",
       "      <td>2 Jahren</td>\n",
       "      <td>98547</td>\n",
       "      <td>0.9</td>\n",
       "      <td>93067</td>\n",
       "      <td>0.9</td>\n",
       "      <td>96971</td>\n",
       "      <td>0.9</td>\n",
       "      <td>110107</td>\n",
       "      <td>1.0</td>\n",
       "    </tr>\n",
       "    <tr>\n",
       "      <th>3</th>\n",
       "      <td>3 Jahren</td>\n",
       "      <td>100761</td>\n",
       "      <td>0.9</td>\n",
       "      <td>94108</td>\n",
       "      <td>0.9</td>\n",
       "      <td>95706</td>\n",
       "      <td>0.9</td>\n",
       "      <td>109920</td>\n",
       "      <td>1.0</td>\n",
       "    </tr>\n",
       "    <tr>\n",
       "      <th>4</th>\n",
       "      <td>4 Jahren</td>\n",
       "      <td>103275</td>\n",
       "      <td>1.0</td>\n",
       "      <td>93277</td>\n",
       "      <td>0.9</td>\n",
       "      <td>94410</td>\n",
       "      <td>0.9</td>\n",
       "      <td>106552</td>\n",
       "      <td>1.0</td>\n",
       "    </tr>\n",
       "    <tr>\n",
       "      <th>...</th>\n",
       "      <td>...</td>\n",
       "      <td>...</td>\n",
       "      <td>...</td>\n",
       "      <td>...</td>\n",
       "      <td>...</td>\n",
       "      <td>...</td>\n",
       "      <td>...</td>\n",
       "      <td>...</td>\n",
       "      <td>...</td>\n",
       "    </tr>\n",
       "    <tr>\n",
       "      <th>87</th>\n",
       "      <td>87 Jahren</td>\n",
       "      <td>17098</td>\n",
       "      <td>0.2</td>\n",
       "      <td>33601</td>\n",
       "      <td>0.3</td>\n",
       "      <td>38092</td>\n",
       "      <td>0.4</td>\n",
       "      <td>37817</td>\n",
       "      <td>0.3</td>\n",
       "    </tr>\n",
       "    <tr>\n",
       "      <th>88</th>\n",
       "      <td>88 Jahren</td>\n",
       "      <td>13855</td>\n",
       "      <td>0.1</td>\n",
       "      <td>29995</td>\n",
       "      <td>0.3</td>\n",
       "      <td>31494</td>\n",
       "      <td>0.3</td>\n",
       "      <td>33961</td>\n",
       "      <td>0.3</td>\n",
       "    </tr>\n",
       "    <tr>\n",
       "      <th>89</th>\n",
       "      <td>89 Jahren</td>\n",
       "      <td>13177</td>\n",
       "      <td>0.1</td>\n",
       "      <td>27181</td>\n",
       "      <td>0.3</td>\n",
       "      <td>27306</td>\n",
       "      <td>0.3</td>\n",
       "      <td>30738</td>\n",
       "      <td>0.3</td>\n",
       "    </tr>\n",
       "    <tr>\n",
       "      <th>90</th>\n",
       "      <td>90 und mehr Jahren</td>\n",
       "      <td>79238</td>\n",
       "      <td>0.7</td>\n",
       "      <td>81696</td>\n",
       "      <td>0.8</td>\n",
       "      <td>91908</td>\n",
       "      <td>0.8</td>\n",
       "      <td>105482</td>\n",
       "      <td>1.0</td>\n",
       "    </tr>\n",
       "    <tr>\n",
       "      <th>91</th>\n",
       "      <td>Insgesamt</td>\n",
       "      <td>10735701</td>\n",
       "      <td>100.0</td>\n",
       "      <td>10753880</td>\n",
       "      <td>100.0</td>\n",
       "      <td>10879618</td>\n",
       "      <td>100.0</td>\n",
       "      <td>11100394</td>\n",
       "      <td>100.0</td>\n",
       "    </tr>\n",
       "  </tbody>\n",
       "</table>\n",
       "<p>92 rows × 9 columns</p>\n",
       "</div>"
      ],
      "text/plain": [
       "            Im_Alter_von    2005_n  2005_perc    2010_n  2010_perc    2015_n  \\\n",
       "0           unter 1 Jahr     94424        0.9     90868        0.8    101417   \n",
       "1                 1 Jahr     97531        0.9     90592        0.8     99912   \n",
       "2               2 Jahren     98547        0.9     93067        0.9     96971   \n",
       "3              3 Jahren     100761        0.9     94108        0.9     95706   \n",
       "4              4 Jahren     103275        1.0     93277        0.9     94410   \n",
       "..                   ...       ...        ...       ...        ...       ...   \n",
       "87            87 Jahren      17098        0.2     33601        0.3     38092   \n",
       "88            88 Jahren      13855        0.1     29995        0.3     31494   \n",
       "89            89 Jahren      13177        0.1     27181        0.3     27306   \n",
       "90   90 und mehr Jahren      79238        0.7     81696        0.8     91908   \n",
       "91            Insgesamt   10735701      100.0  10753880      100.0  10879618   \n",
       "\n",
       "    2015_perc    2019_n  2019_perc  \n",
       "0         0.9    108303        1.0  \n",
       "1         0.9    110182        1.0  \n",
       "2         0.9    110107        1.0  \n",
       "3         0.9    109920        1.0  \n",
       "4         0.9    106552        1.0  \n",
       "..        ...       ...        ...  \n",
       "87        0.4     37817        0.3  \n",
       "88        0.3     33961        0.3  \n",
       "89        0.3     30738        0.3  \n",
       "90        0.8    105482        1.0  \n",
       "91      100.0  11100394      100.0  \n",
       "\n",
       "[92 rows x 9 columns]"
      ]
     },
     "execution_count": 31,
     "metadata": {},
     "output_type": "execute_result"
    }
   ],
   "source": [
    "agestruct"
   ]
  },
  {
   "cell_type": "code",
   "execution_count": 32,
   "id": "polar-juice",
   "metadata": {},
   "outputs": [
    {
     "data": {
      "text/plain": [
       "Im_Alter_von    Insgesamt \n",
       "2005_n            10735701\n",
       "2005_perc            100.0\n",
       "2010_n            10753880\n",
       "2010_perc            100.0\n",
       "2015_n            10879618\n",
       "2015_perc            100.0\n",
       "2019_n            11100394\n",
       "2019_perc            100.0\n",
       "Name: 91, dtype: object"
      ]
     },
     "execution_count": 32,
     "metadata": {},
     "output_type": "execute_result"
    }
   ],
   "source": [
    "agestruct.iloc[91]"
   ]
  },
  {
   "cell_type": "code",
   "execution_count": 33,
   "id": "expanded-drink",
   "metadata": {},
   "outputs": [
    {
     "data": {
      "text/plain": [
       "Index(['Im_Alter_von', '2005_n', '2005_perc', '2010_n', '2010_perc', '2015_n',\n",
       "       '2015_perc', '2019_n', '2019_perc'],\n",
       "      dtype='object')"
      ]
     },
     "execution_count": 33,
     "metadata": {},
     "output_type": "execute_result"
    }
   ],
   "source": [
    "agestruct.keys()"
   ]
  },
  {
   "cell_type": "code",
   "execution_count": 40,
   "id": "sized-postage",
   "metadata": {},
   "outputs": [
    {
     "data": {
      "text/plain": [
       "11100394"
      ]
     },
     "execution_count": 40,
     "metadata": {},
     "output_type": "execute_result"
    }
   ],
   "source": [
    "agestruct[\"2019_n\"].iloc[:-1].sum()"
   ]
  },
  {
   "cell_type": "code",
   "execution_count": 39,
   "id": "available-shakespeare",
   "metadata": {},
   "outputs": [
    {
     "data": {
      "text/plain": [
       "11100394"
      ]
     },
     "execution_count": 39,
     "metadata": {},
     "output_type": "execute_result"
    }
   ],
   "source": [
    "agestruct[\"2019_n\"].iloc[-1]"
   ]
  },
  {
   "cell_type": "code",
   "execution_count": 42,
   "id": "popular-facility",
   "metadata": {},
   "outputs": [
    {
     "data": {
      "text/html": [
       "<div>\n",
       "<style scoped>\n",
       "    .dataframe tbody tr th:only-of-type {\n",
       "        vertical-align: middle;\n",
       "    }\n",
       "\n",
       "    .dataframe tbody tr th {\n",
       "        vertical-align: top;\n",
       "    }\n",
       "\n",
       "    .dataframe thead th {\n",
       "        text-align: right;\n",
       "    }\n",
       "</style>\n",
       "<table border=\"1\" class=\"dataframe\">\n",
       "  <thead>\n",
       "    <tr style=\"text-align: right;\">\n",
       "      <th></th>\n",
       "      <th>Im_Alter_von</th>\n",
       "      <th>2019_n</th>\n",
       "    </tr>\n",
       "  </thead>\n",
       "  <tbody>\n",
       "    <tr>\n",
       "      <th>0</th>\n",
       "      <td>unter 1 Jahr</td>\n",
       "      <td>108303</td>\n",
       "    </tr>\n",
       "    <tr>\n",
       "      <th>1</th>\n",
       "      <td>1 Jahr</td>\n",
       "      <td>110182</td>\n",
       "    </tr>\n",
       "    <tr>\n",
       "      <th>2</th>\n",
       "      <td>2 Jahren</td>\n",
       "      <td>110107</td>\n",
       "    </tr>\n",
       "    <tr>\n",
       "      <th>3</th>\n",
       "      <td>3 Jahren</td>\n",
       "      <td>109920</td>\n",
       "    </tr>\n",
       "    <tr>\n",
       "      <th>4</th>\n",
       "      <td>4 Jahren</td>\n",
       "      <td>106552</td>\n",
       "    </tr>\n",
       "    <tr>\n",
       "      <th>...</th>\n",
       "      <td>...</td>\n",
       "      <td>...</td>\n",
       "    </tr>\n",
       "    <tr>\n",
       "      <th>86</th>\n",
       "      <td>86 Jahren</td>\n",
       "      <td>42589</td>\n",
       "    </tr>\n",
       "    <tr>\n",
       "      <th>87</th>\n",
       "      <td>87 Jahren</td>\n",
       "      <td>37817</td>\n",
       "    </tr>\n",
       "    <tr>\n",
       "      <th>88</th>\n",
       "      <td>88 Jahren</td>\n",
       "      <td>33961</td>\n",
       "    </tr>\n",
       "    <tr>\n",
       "      <th>89</th>\n",
       "      <td>89 Jahren</td>\n",
       "      <td>30738</td>\n",
       "    </tr>\n",
       "    <tr>\n",
       "      <th>90</th>\n",
       "      <td>90 und mehr Jahren</td>\n",
       "      <td>105482</td>\n",
       "    </tr>\n",
       "  </tbody>\n",
       "</table>\n",
       "<p>91 rows × 2 columns</p>\n",
       "</div>"
      ],
      "text/plain": [
       "            Im_Alter_von  2019_n\n",
       "0           unter 1 Jahr  108303\n",
       "1                 1 Jahr  110182\n",
       "2               2 Jahren  110107\n",
       "3              3 Jahren   109920\n",
       "4              4 Jahren   106552\n",
       "..                   ...     ...\n",
       "86            86 Jahren    42589\n",
       "87            87 Jahren    37817\n",
       "88            88 Jahren    33961\n",
       "89            89 Jahren    30738\n",
       "90   90 und mehr Jahren   105482\n",
       "\n",
       "[91 rows x 2 columns]"
      ]
     },
     "execution_count": 42,
     "metadata": {},
     "output_type": "execute_result"
    }
   ],
   "source": [
    "agestruct[['Im_Alter_von',\"2019_n\"]].iloc[:-1]"
   ]
  },
  {
   "cell_type": "code",
   "execution_count": 47,
   "id": "quantitative-sellers",
   "metadata": {},
   "outputs": [],
   "source": [
    "age2 = agestruct.iloc[:-1]"
   ]
  },
  {
   "cell_type": "code",
   "execution_count": 54,
   "id": "saving-location",
   "metadata": {},
   "outputs": [
    {
     "data": {
      "text/plain": [
       "<AxesSubplot:xlabel='Im_Alter_von', ylabel='2019_n'>"
      ]
     },
     "execution_count": 54,
     "metadata": {},
     "output_type": "execute_result"
    },
    {
     "data": {
      "image/png": "[encoded data removed]",
      "text/plain": [
       "<Figure size 432x288 with 1 Axes>"
      ]
     },
     "metadata": {
      "needs_background": "light"
     },
     "output_type": "display_data"
    }
   ],
   "source": [
    "sn.histplot(age2, y=\"2019_n\", x=\"Im_Alter_von\")"
   ]
  },
  {
   "cell_type": "code",
   "execution_count": 62,
   "id": "apparent-chemistry",
   "metadata": {},
   "outputs": [
    {
     "data": {
      "text/plain": [
       "<matplotlib.legend.Legend at 0x7f85dc3f0358>"
      ]
     },
     "execution_count": 62,
     "metadata": {},
     "output_type": "execute_result"
    },
    {
     "data": {
      "image/png": "[encoded data removed]",
      "text/plain": [
       "<Figure size 432x288 with 1 Axes>"
      ]
     },
     "metadata": {
      "needs_background": "light"
     },
     "output_type": "display_data"
    }
   ],
   "source": [
    "plt.barh(age2[\"Im_Alter_von\"][::-1], age2[\"2019_n\"], alpha=0.4, label=\"2019\")\n",
    "plt.barh(age2[\"Im_Alter_von\"][::-1], age2[\"2010_n\"], alpha=0.4, label=\"2010\")\n",
    "plt.barh(age2[\"Im_Alter_von\"][::-1], age2[\"2005_n\"], alpha=0.4, label=\"2005\")\n",
    "plt.legend(loc='best')"
   ]
  },
  {
   "cell_type": "code",
   "execution_count": 63,
   "id": "taken-limitation",
   "metadata": {},
   "outputs": [],
   "source": [
    "age_groups = [\"0-9\", \"10-19\", \"20-29\", \"30-39\", \"40-49\", \"50-59\", \"60-69\", \"70-79\", \"80-89\", \"90\"]"
   ]
  },
  {
   "cell_type": "code",
   "execution_count": 67,
   "id": "consistent-darkness",
   "metadata": {},
   "outputs": [
    {
     "data": {
      "text/plain": [
       "0     unter 1 Jahr\n",
       "1           1 Jahr\n",
       "2         2 Jahren\n",
       "3        3 Jahren \n",
       "4        4 Jahren \n",
       "5        5 Jahren \n",
       "6        6 Jahren \n",
       "7        7 Jahren \n",
       "8        8 Jahren \n",
       "9        9 Jahren \n",
       "Name: Im_Alter_von, dtype: object"
      ]
     },
     "execution_count": 67,
     "metadata": {},
     "output_type": "execute_result"
    }
   ],
   "source": [
    "age2[\"Im_Alter_von\"].iloc[:10]"
   ]
  },
  {
   "cell_type": "code",
   "execution_count": 68,
   "id": "mounted-destiny",
   "metadata": {},
   "outputs": [
    {
     "data": {
      "text/plain": [
       "10     10 Jahren \n",
       "11     11 Jahren \n",
       "12     12 Jahren \n",
       "13     13 Jahren \n",
       "14     14 Jahren \n",
       "15     15 Jahren \n",
       "16     16 Jahren \n",
       "17     17 Jahren \n",
       "18     18 Jahren \n",
       "19     19 Jahren \n",
       "Name: Im_Alter_von, dtype: object"
      ]
     },
     "execution_count": 68,
     "metadata": {},
     "output_type": "execute_result"
    }
   ],
   "source": [
    "age2[\"Im_Alter_von\"].iloc[10:20]"
   ]
  },
  {
   "cell_type": "code",
   "execution_count": 69,
   "id": "otherwise-plumbing",
   "metadata": {},
   "outputs": [
    {
     "data": {
      "text/plain": [
       "20     20 Jahren \n",
       "21     21 Jahren \n",
       "22     22 Jahren \n",
       "23     23 Jahren \n",
       "24     24 Jahren \n",
       "25     25 Jahren \n",
       "26     26 Jahren \n",
       "27     27 Jahren \n",
       "28     28 Jahren \n",
       "29     29 Jahren \n",
       "Name: Im_Alter_von, dtype: object"
      ]
     },
     "execution_count": 69,
     "metadata": {},
     "output_type": "execute_result"
    }
   ],
   "source": [
    "age2[\"Im_Alter_von\"].iloc[20:30]"
   ]
  },
  {
   "cell_type": "code",
   "execution_count": 71,
   "id": "based-ozone",
   "metadata": {},
   "outputs": [
    {
     "data": {
      "text/plain": [
       "0     108303\n",
       "1     110182\n",
       "2     110107\n",
       "3     109920\n",
       "4     106552\n",
       "       ...  \n",
       "86     42589\n",
       "87     37817\n",
       "88     33961\n",
       "89     30738\n",
       "90    105482\n",
       "Name: 2019_n, Length: 91, dtype: int64"
      ]
     },
     "execution_count": 71,
     "metadata": {},
     "output_type": "execute_result"
    }
   ],
   "source": [
    "age2[\"2019_n\"]"
   ]
  },
  {
   "cell_type": "code",
   "execution_count": 75,
   "id": "voluntary-business",
   "metadata": {},
   "outputs": [
    {
     "data": {
      "text/plain": [
       "(91,)"
      ]
     },
     "execution_count": 75,
     "metadata": {},
     "output_type": "execute_result"
    }
   ],
   "source": [
    "age2[\"2019_n\"].shape"
   ]
  },
  {
   "cell_type": "code",
   "execution_count": 98,
   "id": "geographic-finger",
   "metadata": {},
   "outputs": [
    {
     "name": "stdout",
     "output_type": "stream",
     "text": [
      "(9,)\n",
      "(9,)\n",
      "(9,)\n"
     ]
    }
   ],
   "source": [
    "x=10\n",
    "snapshots = [\"2005_n\", \"2010_n\", \"2019_n\"]\n",
    "grouped_age_dist = np.empty(shape=(len(snapshots),x))\n",
    "\n",
    "for cur_ix, cur_key in enumerate(snapshots):\n",
    "    a = age2[cur_key].iloc[:90].to_numpy()\n",
    "    tmp = a.reshape((int(a.shape[0]/x), int(x) )).sum(1)\n",
    "    print(tmp.shape)\n",
    "    grouped_age_dist[cur_ix,:-1] = tmp\n",
    "    grouped_age_dist[cur_ix,-1] = age2[cur_key].iloc[90:]"
   ]
  },
  {
   "cell_type": "code",
   "execution_count": 99,
   "id": "occupational-marriage",
   "metadata": {},
   "outputs": [
    {
     "data": {
      "text/plain": [
       "array([[1061236., 1226736., 1278811., 1570701., 1762800., 1309484.,\n",
       "        1227412.,  833923.,  385360.,   79238.],\n",
       "       [ 957469., 1170824., 1315806., 1317926., 1822800., 1490872.,\n",
       "        1123298., 1005703.,  467486.,   81696.],\n",
       "       [1048157., 1065141., 1402914., 1457922., 1375192., 1766660.,\n",
       "        1324530.,  939740.,  614656.,  105482.]])"
      ]
     },
     "execution_count": 99,
     "metadata": {},
     "output_type": "execute_result"
    }
   ],
   "source": [
    "grouped_age_dist"
   ]
  },
  {
   "cell_type": "code",
   "execution_count": 88,
   "id": "strong-fraction",
   "metadata": {},
   "outputs": [
    {
     "data": {
      "text/plain": [
       "90    105482\n",
       "Name: 2019_n, dtype: int64"
      ]
     },
     "execution_count": 88,
     "metadata": {},
     "output_type": "execute_result"
    }
   ],
   "source": [
    "age2[\"2019_n\"].iloc[90:]"
   ]
  },
  {
   "cell_type": "code",
   "execution_count": 85,
   "id": "minor-webster",
   "metadata": {},
   "outputs": [
    {
     "data": {
      "text/plain": [
       "90     90 und mehr Jahren \n",
       "Name: Im_Alter_von, dtype: object"
      ]
     },
     "execution_count": 85,
     "metadata": {},
     "output_type": "execute_result"
    }
   ],
   "source": [
    "age2[\"Im_Alter_von\"].iloc[90:]"
   ]
  },
  {
   "cell_type": "code",
   "execution_count": 107,
   "id": "theoretical-witness",
   "metadata": {},
   "outputs": [],
   "source": [
    "grouped_age_distributions = pd.DataFrame(grouped_age_dist.T, \n",
    "                                         columns=snapshots,\n",
    "                                        index=age_groups)"
   ]
  },
  {
   "cell_type": "code",
   "execution_count": 108,
   "id": "gross-medicaid",
   "metadata": {},
   "outputs": [
    {
     "data": {
      "text/html": [
       "<div>\n",
       "<style scoped>\n",
       "    .dataframe tbody tr th:only-of-type {\n",
       "        vertical-align: middle;\n",
       "    }\n",
       "\n",
       "    .dataframe tbody tr th {\n",
       "        vertical-align: top;\n",
       "    }\n",
       "\n",
       "    .dataframe thead th {\n",
       "        text-align: right;\n",
       "    }\n",
       "</style>\n",
       "<table border=\"1\" class=\"dataframe\">\n",
       "  <thead>\n",
       "    <tr style=\"text-align: right;\">\n",
       "      <th></th>\n",
       "      <th>2005_n</th>\n",
       "      <th>2010_n</th>\n",
       "      <th>2019_n</th>\n",
       "    </tr>\n",
       "  </thead>\n",
       "  <tbody>\n",
       "    <tr>\n",
       "      <th>0-9</th>\n",
       "      <td>1061236.0</td>\n",
       "      <td>957469.0</td>\n",
       "      <td>1048157.0</td>\n",
       "    </tr>\n",
       "    <tr>\n",
       "      <th>10-19</th>\n",
       "      <td>1226736.0</td>\n",
       "      <td>1170824.0</td>\n",
       "      <td>1065141.0</td>\n",
       "    </tr>\n",
       "    <tr>\n",
       "      <th>20-29</th>\n",
       "      <td>1278811.0</td>\n",
       "      <td>1315806.0</td>\n",
       "      <td>1402914.0</td>\n",
       "    </tr>\n",
       "    <tr>\n",
       "      <th>30-39</th>\n",
       "      <td>1570701.0</td>\n",
       "      <td>1317926.0</td>\n",
       "      <td>1457922.0</td>\n",
       "    </tr>\n",
       "    <tr>\n",
       "      <th>40-49</th>\n",
       "      <td>1762800.0</td>\n",
       "      <td>1822800.0</td>\n",
       "      <td>1375192.0</td>\n",
       "    </tr>\n",
       "    <tr>\n",
       "      <th>50-59</th>\n",
       "      <td>1309484.0</td>\n",
       "      <td>1490872.0</td>\n",
       "      <td>1766660.0</td>\n",
       "    </tr>\n",
       "    <tr>\n",
       "      <th>60-69</th>\n",
       "      <td>1227412.0</td>\n",
       "      <td>1123298.0</td>\n",
       "      <td>1324530.0</td>\n",
       "    </tr>\n",
       "    <tr>\n",
       "      <th>70-79</th>\n",
       "      <td>833923.0</td>\n",
       "      <td>1005703.0</td>\n",
       "      <td>939740.0</td>\n",
       "    </tr>\n",
       "    <tr>\n",
       "      <th>80-89</th>\n",
       "      <td>385360.0</td>\n",
       "      <td>467486.0</td>\n",
       "      <td>614656.0</td>\n",
       "    </tr>\n",
       "    <tr>\n",
       "      <th>90</th>\n",
       "      <td>79238.0</td>\n",
       "      <td>81696.0</td>\n",
       "      <td>105482.0</td>\n",
       "    </tr>\n",
       "  </tbody>\n",
       "</table>\n",
       "</div>"
      ],
      "text/plain": [
       "          2005_n     2010_n     2019_n\n",
       "0-9    1061236.0   957469.0  1048157.0\n",
       "10-19  1226736.0  1170824.0  1065141.0\n",
       "20-29  1278811.0  1315806.0  1402914.0\n",
       "30-39  1570701.0  1317926.0  1457922.0\n",
       "40-49  1762800.0  1822800.0  1375192.0\n",
       "50-59  1309484.0  1490872.0  1766660.0\n",
       "60-69  1227412.0  1123298.0  1324530.0\n",
       "70-79   833923.0  1005703.0   939740.0\n",
       "80-89   385360.0   467486.0   614656.0\n",
       "90       79238.0    81696.0   105482.0"
      ]
     },
     "execution_count": 108,
     "metadata": {},
     "output_type": "execute_result"
    }
   ],
   "source": [
    "grouped_age_distributions"
   ]
  },
  {
   "cell_type": "code",
   "execution_count": 113,
   "id": "swedish-restaurant",
   "metadata": {},
   "outputs": [
    {
     "data": {
      "text/plain": [
       "Index(['0-9', '10-19', '20-29', '30-39', '40-49', '50-59', '60-69', '70-79',\n",
       "       '80-89', '90'],\n",
       "      dtype='object')"
      ]
     },
     "execution_count": 113,
     "metadata": {},
     "output_type": "execute_result"
    }
   ],
   "source": [
    "grouped_age_distributions.index"
   ]
  },
  {
   "cell_type": "code",
   "execution_count": 133,
   "id": "peripheral-cardiff",
   "metadata": {},
   "outputs": [
    {
     "data": {
      "text/plain": [
       "<matplotlib.legend.Legend at 0x7f85e000c4a8>"
      ]
     },
     "execution_count": 133,
     "metadata": {},
     "output_type": "execute_result"
    },
    {
     "data": {
      "image/png": "[encoded data removed]",
      "text/plain": [
       "<Figure size 432x288 with 1 Axes>"
      ]
     },
     "metadata": {
      "needs_background": "light"
     },
     "output_type": "display_data"
    }
   ],
   "source": [
    "plt.barh(grouped_age_distributions.index[::-1], grouped_age_distributions[\"2005_n\"][::-1], color='None', lw=3, edgecolor='lightgreen', label=\"2005\")\n",
    "\n",
    "plt.barh(grouped_age_distributions.index[::-1], grouped_age_distributions[\"2010_n\"][::-1], color='None',  lw=3, edgecolor='lightblue', label=\"2010\")\n",
    "plt.barh(grouped_age_distributions.index[::-1], grouped_age_distributions[\"2019_n\"][::-1], color='None',   lw=3, edgecolor='darkred', label=\"2019\")\n",
    "plt.legend(loc='best')"
   ]
  },
  {
   "cell_type": "code",
   "execution_count": 134,
   "id": "formed-threshold",
   "metadata": {},
   "outputs": [
    {
     "data": {
      "text/html": [
       "<div>\n",
       "<style scoped>\n",
       "    .dataframe tbody tr th:only-of-type {\n",
       "        vertical-align: middle;\n",
       "    }\n",
       "\n",
       "    .dataframe tbody tr th {\n",
       "        vertical-align: top;\n",
       "    }\n",
       "\n",
       "    .dataframe thead th {\n",
       "        text-align: right;\n",
       "    }\n",
       "</style>\n",
       "<table border=\"1\" class=\"dataframe\">\n",
       "  <thead>\n",
       "    <tr style=\"text-align: right;\">\n",
       "      <th></th>\n",
       "      <th>2005_n</th>\n",
       "      <th>2010_n</th>\n",
       "      <th>2019_n</th>\n",
       "    </tr>\n",
       "  </thead>\n",
       "  <tbody>\n",
       "    <tr>\n",
       "      <th>0-9</th>\n",
       "      <td>1061236.0</td>\n",
       "      <td>957469.0</td>\n",
       "      <td>1048157.0</td>\n",
       "    </tr>\n",
       "    <tr>\n",
       "      <th>10-19</th>\n",
       "      <td>1226736.0</td>\n",
       "      <td>1170824.0</td>\n",
       "      <td>1065141.0</td>\n",
       "    </tr>\n",
       "    <tr>\n",
       "      <th>20-29</th>\n",
       "      <td>1278811.0</td>\n",
       "      <td>1315806.0</td>\n",
       "      <td>1402914.0</td>\n",
       "    </tr>\n",
       "    <tr>\n",
       "      <th>30-39</th>\n",
       "      <td>1570701.0</td>\n",
       "      <td>1317926.0</td>\n",
       "      <td>1457922.0</td>\n",
       "    </tr>\n",
       "    <tr>\n",
       "      <th>40-49</th>\n",
       "      <td>1762800.0</td>\n",
       "      <td>1822800.0</td>\n",
       "      <td>1375192.0</td>\n",
       "    </tr>\n",
       "    <tr>\n",
       "      <th>50-59</th>\n",
       "      <td>1309484.0</td>\n",
       "      <td>1490872.0</td>\n",
       "      <td>1766660.0</td>\n",
       "    </tr>\n",
       "    <tr>\n",
       "      <th>60-69</th>\n",
       "      <td>1227412.0</td>\n",
       "      <td>1123298.0</td>\n",
       "      <td>1324530.0</td>\n",
       "    </tr>\n",
       "    <tr>\n",
       "      <th>70-79</th>\n",
       "      <td>833923.0</td>\n",
       "      <td>1005703.0</td>\n",
       "      <td>939740.0</td>\n",
       "    </tr>\n",
       "    <tr>\n",
       "      <th>80-89</th>\n",
       "      <td>385360.0</td>\n",
       "      <td>467486.0</td>\n",
       "      <td>614656.0</td>\n",
       "    </tr>\n",
       "    <tr>\n",
       "      <th>90</th>\n",
       "      <td>79238.0</td>\n",
       "      <td>81696.0</td>\n",
       "      <td>105482.0</td>\n",
       "    </tr>\n",
       "  </tbody>\n",
       "</table>\n",
       "</div>"
      ],
      "text/plain": [
       "          2005_n     2010_n     2019_n\n",
       "0-9    1061236.0   957469.0  1048157.0\n",
       "10-19  1226736.0  1170824.0  1065141.0\n",
       "20-29  1278811.0  1315806.0  1402914.0\n",
       "30-39  1570701.0  1317926.0  1457922.0\n",
       "40-49  1762800.0  1822800.0  1375192.0\n",
       "50-59  1309484.0  1490872.0  1766660.0\n",
       "60-69  1227412.0  1123298.0  1324530.0\n",
       "70-79   833923.0  1005703.0   939740.0\n",
       "80-89   385360.0   467486.0   614656.0\n",
       "90       79238.0    81696.0   105482.0"
      ]
     },
     "execution_count": 134,
     "metadata": {},
     "output_type": "execute_result"
    }
   ],
   "source": [
    "grouped_age_distributions"
   ]
  },
  {
   "cell_type": "code",
   "execution_count": 135,
   "id": "incomplete-hardware",
   "metadata": {},
   "outputs": [
    {
     "data": {
      "text/plain": [
       "2005_n    10735701.0\n",
       "2010_n    10753880.0\n",
       "2019_n    11100394.0\n",
       "dtype: float64"
      ]
     },
     "execution_count": 135,
     "metadata": {},
     "output_type": "execute_result"
    }
   ],
   "source": [
    "grouped_age_distributions.sum()"
   ]
  },
  {
   "cell_type": "code",
   "execution_count": 137,
   "id": "natural-christopher",
   "metadata": {},
   "outputs": [],
   "source": [
    "grouped_age_distributions.to_csv('./data/grouped_age_distributions_bw.csv')"
   ]
  },
  {
   "cell_type": "code",
   "execution_count": 139,
   "id": "hungry-reference",
   "metadata": {},
   "outputs": [
    {
     "data": {
      "text/plain": [
       "0-9      0.094425\n",
       "10-19    0.095955\n",
       "20-29    0.126384\n",
       "30-39    0.131340\n",
       "40-49    0.123887\n",
       "50-59    0.159153\n",
       "60-69    0.119323\n",
       "70-79    0.084658\n",
       "80-89    0.055372\n",
       "90       0.009503\n",
       "Name: 2019_n, dtype: float64"
      ]
     },
     "execution_count": 139,
     "metadata": {},
     "output_type": "execute_result"
    }
   ],
   "source": [
    "grouped_age_distributions[\"2019_n\"]/11100394.0"
   ]
  },
  {
   "cell_type": "code",
   "execution_count": null,
   "id": "dying-performer",
   "metadata": {},
   "outputs": [],
   "source": []
  }
 ],
 "metadata": {
  "kernelspec": {
   "display_name": "Python 3",
   "language": "python",
   "name": "python3"
  },
  "language_info": {
   "codemirror_mode": {
    "name": "ipython",
    "version": 3
   },
   "file_extension": ".py",
   "mimetype": "text/x-python",
   "name": "python",
   "nbconvert_exporter": "python",
   "pygments_lexer": "ipython3",
   "version": "3.7.0"
  }
 },
 "nbformat": 4,
 "nbformat_minor": 5
}
