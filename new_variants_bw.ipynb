{
 "cells": [
  {
   "cell_type": "code",
   "execution_count": 1,
   "metadata": {},
   "outputs": [],
   "source": [
    "import pandas as pd\n",
    "import numpy as np\n",
    "\n",
    "from datetime import datetime\n",
    "\n",
    "\n",
    "import matplotlib.pylab as plt\n",
    "from matplotlib import cm\n",
    "from matplotlib.dates import date2num\n",
    "\n",
    "import corona_variants_bw_helper as cvh\n",
    "#import camelot"
   ]
  },
  {
   "cell_type": "markdown",
   "metadata": {},
   "source": [
    "# Read and Prepare Data"
   ]
  },
  {
   "cell_type": "code",
   "execution_count": 2,
   "metadata": {},
   "outputs": [],
   "source": [
    "data = pd.read_csv(\"./data/data_corona_varianten.tsv\",\n",
    "            infer_datetime_format=True,\n",
    "            delimiter=\"\\t\")"
   ]
  },
  {
   "cell_type": "code",
   "execution_count": 3,
   "metadata": {},
   "outputs": [
    {
     "data": {
      "text/plain": [
       "Index(['Timestamp', 'Dayname', '0-9', '10-19', '20-29', '30-39', '40-49',\n",
       "       '50-59', '60-69', '70-79', '80-89', '90', 'Faelle', 'nLKs',\n",
       "       'Faelle_Varianten_Typ', 'B117', 'B1351', 'B11281',\n",
       "       'nAusbrueche_KW53_2020', 'nAusbrueche_KW53_2020_Varinten',\n",
       "       'n_Ausbrueche_Pflegeheimen', 'nAusbrueche_Pflefeheimen_Varianten',\n",
       "       'n_Ausbrueche_Schulen', 'n_Ausbrueche_Schulen_Varianten',\n",
       "       'n_Ausbrueche_Kitas', 'n_Ausbrueche_Kitas_Varianten',\n",
       "       'n_neue_Fälle_ges', 'n_ges'],\n",
       "      dtype='object')"
      ]
     },
     "execution_count": 3,
     "metadata": {},
     "output_type": "execute_result"
    }
   ],
   "source": [
    "data.keys()"
   ]
  },
  {
   "cell_type": "code",
   "execution_count": 4,
   "metadata": {},
   "outputs": [],
   "source": [
    "age_groups = [\"0-9\", \"10-19\", \"20-29\", \"30-39\", \"40-49\", \"50-59\", \"60-69\", \"70-79\", \"80-89\", \"90\"]"
   ]
  },
  {
   "cell_type": "code",
   "execution_count": 5,
   "metadata": {},
   "outputs": [],
   "source": [
    "# add a column containing the sum on that day\n",
    "data['sum_agegroups']=data[age_groups].sum(axis=1)"
   ]
  },
  {
   "cell_type": "code",
   "execution_count": 6,
   "metadata": {},
   "outputs": [],
   "source": [
    "data[\"Timestamp\"] = pd.to_datetime(data.Timestamp, format=\"%d.%m.%y %H:%M\")"
   ]
  },
  {
   "cell_type": "code",
   "execution_count": 7,
   "metadata": {},
   "outputs": [],
   "source": [
    "#data"
   ]
  },
  {
   "cell_type": "code",
   "execution_count": 8,
   "metadata": {},
   "outputs": [
    {
     "data": {
      "text/html": [
       "<div>\n",
       "<style scoped>\n",
       "    .dataframe tbody tr th:only-of-type {\n",
       "        vertical-align: middle;\n",
       "    }\n",
       "\n",
       "    .dataframe tbody tr th {\n",
       "        vertical-align: top;\n",
       "    }\n",
       "\n",
       "    .dataframe thead th {\n",
       "        text-align: right;\n",
       "    }\n",
       "</style>\n",
       "<table border=\"1\" class=\"dataframe\">\n",
       "  <thead>\n",
       "    <tr style=\"text-align: right;\">\n",
       "      <th></th>\n",
       "      <th>Timestamp</th>\n",
       "      <th>Faelle</th>\n",
       "      <th>sum_agegroups</th>\n",
       "    </tr>\n",
       "  </thead>\n",
       "  <tbody>\n",
       "    <tr>\n",
       "      <th>0</th>\n",
       "      <td>2021-02-08 16:00:00</td>\n",
       "      <td>1081</td>\n",
       "      <td>1081</td>\n",
       "    </tr>\n",
       "    <tr>\n",
       "      <th>1</th>\n",
       "      <td>2021-02-09 16:00:00</td>\n",
       "      <td>1246</td>\n",
       "      <td>1246</td>\n",
       "    </tr>\n",
       "    <tr>\n",
       "      <th>2</th>\n",
       "      <td>2021-02-10 16:00:00</td>\n",
       "      <td>1232</td>\n",
       "      <td>1232</td>\n",
       "    </tr>\n",
       "    <tr>\n",
       "      <th>3</th>\n",
       "      <td>2021-02-11 16:00:00</td>\n",
       "      <td>1371</td>\n",
       "      <td>1370</td>\n",
       "    </tr>\n",
       "    <tr>\n",
       "      <th>4</th>\n",
       "      <td>2021-02-12 16:00:00</td>\n",
       "      <td>1576</td>\n",
       "      <td>1575</td>\n",
       "    </tr>\n",
       "    <tr>\n",
       "      <th>5</th>\n",
       "      <td>2021-02-13 16:00:00</td>\n",
       "      <td>1748</td>\n",
       "      <td>1747</td>\n",
       "    </tr>\n",
       "    <tr>\n",
       "      <th>6</th>\n",
       "      <td>2021-02-14 16:00:00</td>\n",
       "      <td>1810</td>\n",
       "      <td>1809</td>\n",
       "    </tr>\n",
       "    <tr>\n",
       "      <th>7</th>\n",
       "      <td>2021-02-15 16:00:00</td>\n",
       "      <td>1933</td>\n",
       "      <td>1932</td>\n",
       "    </tr>\n",
       "    <tr>\n",
       "      <th>8</th>\n",
       "      <td>2021-02-16 16:00:00</td>\n",
       "      <td>2065</td>\n",
       "      <td>2065</td>\n",
       "    </tr>\n",
       "    <tr>\n",
       "      <th>9</th>\n",
       "      <td>2021-02-17 16:00:00</td>\n",
       "      <td>2250</td>\n",
       "      <td>2250</td>\n",
       "    </tr>\n",
       "    <tr>\n",
       "      <th>10</th>\n",
       "      <td>2021-02-18 16:00:00</td>\n",
       "      <td>2485</td>\n",
       "      <td>2485</td>\n",
       "    </tr>\n",
       "    <tr>\n",
       "      <th>11</th>\n",
       "      <td>2021-02-19 16:00:00</td>\n",
       "      <td>2692</td>\n",
       "      <td>2692</td>\n",
       "    </tr>\n",
       "    <tr>\n",
       "      <th>12</th>\n",
       "      <td>2021-02-20 16:00:00</td>\n",
       "      <td>2885</td>\n",
       "      <td>2885</td>\n",
       "    </tr>\n",
       "    <tr>\n",
       "      <th>13</th>\n",
       "      <td>2021-02-21 16:00:00</td>\n",
       "      <td>2975</td>\n",
       "      <td>3008</td>\n",
       "    </tr>\n",
       "    <tr>\n",
       "      <th>14</th>\n",
       "      <td>2021-02-22 16:00:00</td>\n",
       "      <td>3067</td>\n",
       "      <td>3067</td>\n",
       "    </tr>\n",
       "    <tr>\n",
       "      <th>15</th>\n",
       "      <td>2021-02-23 16:00:00</td>\n",
       "      <td>3275</td>\n",
       "      <td>3275</td>\n",
       "    </tr>\n",
       "    <tr>\n",
       "      <th>16</th>\n",
       "      <td>2021-02-24 16:00:00</td>\n",
       "      <td>3544</td>\n",
       "      <td>3544</td>\n",
       "    </tr>\n",
       "    <tr>\n",
       "      <th>17</th>\n",
       "      <td>2021-02-25 16:00:00</td>\n",
       "      <td>3936</td>\n",
       "      <td>3936</td>\n",
       "    </tr>\n",
       "    <tr>\n",
       "      <th>18</th>\n",
       "      <td>2021-02-26 16:00:00</td>\n",
       "      <td>4266</td>\n",
       "      <td>4264</td>\n",
       "    </tr>\n",
       "    <tr>\n",
       "      <th>19</th>\n",
       "      <td>2021-02-27 16:00:00</td>\n",
       "      <td>4613</td>\n",
       "      <td>4611</td>\n",
       "    </tr>\n",
       "    <tr>\n",
       "      <th>20</th>\n",
       "      <td>2021-02-28 16:00:00</td>\n",
       "      <td>4686</td>\n",
       "      <td>4685</td>\n",
       "    </tr>\n",
       "    <tr>\n",
       "      <th>21</th>\n",
       "      <td>2021-03-01 16:00:00</td>\n",
       "      <td>4868</td>\n",
       "      <td>4868</td>\n",
       "    </tr>\n",
       "    <tr>\n",
       "      <th>22</th>\n",
       "      <td>2021-03-02 16:00:00</td>\n",
       "      <td>5101</td>\n",
       "      <td>5151</td>\n",
       "    </tr>\n",
       "    <tr>\n",
       "      <th>23</th>\n",
       "      <td>2021-03-03 16:00:00</td>\n",
       "      <td>5506</td>\n",
       "      <td>5505</td>\n",
       "    </tr>\n",
       "    <tr>\n",
       "      <th>24</th>\n",
       "      <td>2021-03-04 16:00:00</td>\n",
       "      <td>6026</td>\n",
       "      <td>6025</td>\n",
       "    </tr>\n",
       "    <tr>\n",
       "      <th>25</th>\n",
       "      <td>2021-03-05 16:00:00</td>\n",
       "      <td>6664</td>\n",
       "      <td>6663</td>\n",
       "    </tr>\n",
       "    <tr>\n",
       "      <th>26</th>\n",
       "      <td>2021-03-06 16:00:00</td>\n",
       "      <td>7137</td>\n",
       "      <td>7136</td>\n",
       "    </tr>\n",
       "    <tr>\n",
       "      <th>27</th>\n",
       "      <td>2021-03-07 16:00:00</td>\n",
       "      <td>7248</td>\n",
       "      <td>7247</td>\n",
       "    </tr>\n",
       "    <tr>\n",
       "      <th>28</th>\n",
       "      <td>2021-03-08 16:00:00</td>\n",
       "      <td>7648</td>\n",
       "      <td>7647</td>\n",
       "    </tr>\n",
       "    <tr>\n",
       "      <th>29</th>\n",
       "      <td>2021-03-09 16:00:00</td>\n",
       "      <td>8238</td>\n",
       "      <td>8237</td>\n",
       "    </tr>\n",
       "    <tr>\n",
       "      <th>30</th>\n",
       "      <td>2021-03-10 16:00:00</td>\n",
       "      <td>8810</td>\n",
       "      <td>8809</td>\n",
       "    </tr>\n",
       "    <tr>\n",
       "      <th>31</th>\n",
       "      <td>2021-03-11 16:00:00</td>\n",
       "      <td>9753</td>\n",
       "      <td>9752</td>\n",
       "    </tr>\n",
       "    <tr>\n",
       "      <th>32</th>\n",
       "      <td>2021-03-12 16:00:00</td>\n",
       "      <td>10466</td>\n",
       "      <td>10466</td>\n",
       "    </tr>\n",
       "    <tr>\n",
       "      <th>33</th>\n",
       "      <td>2021-03-13 16:00:00</td>\n",
       "      <td>11218</td>\n",
       "      <td>11218</td>\n",
       "    </tr>\n",
       "    <tr>\n",
       "      <th>34</th>\n",
       "      <td>2021-03-14 16:00:00</td>\n",
       "      <td>11543</td>\n",
       "      <td>11542</td>\n",
       "    </tr>\n",
       "    <tr>\n",
       "      <th>35</th>\n",
       "      <td>2021-03-15 16:00:00</td>\n",
       "      <td>12100</td>\n",
       "      <td>12101</td>\n",
       "    </tr>\n",
       "    <tr>\n",
       "      <th>36</th>\n",
       "      <td>2021-03-16 16:00:00</td>\n",
       "      <td>13008</td>\n",
       "      <td>13008</td>\n",
       "    </tr>\n",
       "    <tr>\n",
       "      <th>37</th>\n",
       "      <td>2021-03-17 16:00:00</td>\n",
       "      <td>13986</td>\n",
       "      <td>13986</td>\n",
       "    </tr>\n",
       "    <tr>\n",
       "      <th>38</th>\n",
       "      <td>2021-03-18 16:00:00</td>\n",
       "      <td>15523</td>\n",
       "      <td>15523</td>\n",
       "    </tr>\n",
       "    <tr>\n",
       "      <th>39</th>\n",
       "      <td>2021-03-19 16:00:00</td>\n",
       "      <td>16702</td>\n",
       "      <td>16700</td>\n",
       "    </tr>\n",
       "    <tr>\n",
       "      <th>40</th>\n",
       "      <td>2021-03-20 16:00:00</td>\n",
       "      <td>17750</td>\n",
       "      <td>17749</td>\n",
       "    </tr>\n",
       "    <tr>\n",
       "      <th>41</th>\n",
       "      <td>2021-03-21 16:00:00</td>\n",
       "      <td>18223</td>\n",
       "      <td>18222</td>\n",
       "    </tr>\n",
       "    <tr>\n",
       "      <th>42</th>\n",
       "      <td>2021-03-22 16:00:00</td>\n",
       "      <td>19168</td>\n",
       "      <td>19167</td>\n",
       "    </tr>\n",
       "    <tr>\n",
       "      <th>43</th>\n",
       "      <td>2021-03-23 16:00:00</td>\n",
       "      <td>20451</td>\n",
       "      <td>20451</td>\n",
       "    </tr>\n",
       "    <tr>\n",
       "      <th>44</th>\n",
       "      <td>2021-03-24 16:00:00</td>\n",
       "      <td>21868</td>\n",
       "      <td>21868</td>\n",
       "    </tr>\n",
       "    <tr>\n",
       "      <th>45</th>\n",
       "      <td>2021-03-25 16:00:00</td>\n",
       "      <td>23612</td>\n",
       "      <td>23611</td>\n",
       "    </tr>\n",
       "    <tr>\n",
       "      <th>46</th>\n",
       "      <td>2021-03-26 16:00:00</td>\n",
       "      <td>25333</td>\n",
       "      <td>25331</td>\n",
       "    </tr>\n",
       "    <tr>\n",
       "      <th>47</th>\n",
       "      <td>2021-03-27 16:00:00</td>\n",
       "      <td>26630</td>\n",
       "      <td>26626</td>\n",
       "    </tr>\n",
       "    <tr>\n",
       "      <th>48</th>\n",
       "      <td>2021-03-28 16:00:00</td>\n",
       "      <td>27099</td>\n",
       "      <td>27095</td>\n",
       "    </tr>\n",
       "    <tr>\n",
       "      <th>49</th>\n",
       "      <td>2021-03-29 16:00:00</td>\n",
       "      <td>28446</td>\n",
       "      <td>28441</td>\n",
       "    </tr>\n",
       "    <tr>\n",
       "      <th>50</th>\n",
       "      <td>2021-03-30 16:00:00</td>\n",
       "      <td>29952</td>\n",
       "      <td>29946</td>\n",
       "    </tr>\n",
       "    <tr>\n",
       "      <th>51</th>\n",
       "      <td>2021-03-31 16:00:00</td>\n",
       "      <td>31680</td>\n",
       "      <td>31672</td>\n",
       "    </tr>\n",
       "    <tr>\n",
       "      <th>52</th>\n",
       "      <td>2021-04-01 16:00:00</td>\n",
       "      <td>33705</td>\n",
       "      <td>33694</td>\n",
       "    </tr>\n",
       "    <tr>\n",
       "      <th>53</th>\n",
       "      <td>2021-04-02 16:00:00</td>\n",
       "      <td>35539</td>\n",
       "      <td>35527</td>\n",
       "    </tr>\n",
       "    <tr>\n",
       "      <th>54</th>\n",
       "      <td>2021-04-03 16:00:00</td>\n",
       "      <td>36459</td>\n",
       "      <td>36447</td>\n",
       "    </tr>\n",
       "    <tr>\n",
       "      <th>55</th>\n",
       "      <td>2021-04-04 16:00:00</td>\n",
       "      <td>37591</td>\n",
       "      <td>37579</td>\n",
       "    </tr>\n",
       "    <tr>\n",
       "      <th>56</th>\n",
       "      <td>2021-04-05 16:00:00</td>\n",
       "      <td>37993</td>\n",
       "      <td>37982</td>\n",
       "    </tr>\n",
       "  </tbody>\n",
       "</table>\n",
       "</div>"
      ],
      "text/plain": [
       "             Timestamp  Faelle  sum_agegroups\n",
       "0  2021-02-08 16:00:00    1081           1081\n",
       "1  2021-02-09 16:00:00    1246           1246\n",
       "2  2021-02-10 16:00:00    1232           1232\n",
       "3  2021-02-11 16:00:00    1371           1370\n",
       "4  2021-02-12 16:00:00    1576           1575\n",
       "5  2021-02-13 16:00:00    1748           1747\n",
       "6  2021-02-14 16:00:00    1810           1809\n",
       "7  2021-02-15 16:00:00    1933           1932\n",
       "8  2021-02-16 16:00:00    2065           2065\n",
       "9  2021-02-17 16:00:00    2250           2250\n",
       "10 2021-02-18 16:00:00    2485           2485\n",
       "11 2021-02-19 16:00:00    2692           2692\n",
       "12 2021-02-20 16:00:00    2885           2885\n",
       "13 2021-02-21 16:00:00    2975           3008\n",
       "14 2021-02-22 16:00:00    3067           3067\n",
       "15 2021-02-23 16:00:00    3275           3275\n",
       "16 2021-02-24 16:00:00    3544           3544\n",
       "17 2021-02-25 16:00:00    3936           3936\n",
       "18 2021-02-26 16:00:00    4266           4264\n",
       "19 2021-02-27 16:00:00    4613           4611\n",
       "20 2021-02-28 16:00:00    4686           4685\n",
       "21 2021-03-01 16:00:00    4868           4868\n",
       "22 2021-03-02 16:00:00    5101           5151\n",
       "23 2021-03-03 16:00:00    5506           5505\n",
       "24 2021-03-04 16:00:00    6026           6025\n",
       "25 2021-03-05 16:00:00    6664           6663\n",
       "26 2021-03-06 16:00:00    7137           7136\n",
       "27 2021-03-07 16:00:00    7248           7247\n",
       "28 2021-03-08 16:00:00    7648           7647\n",
       "29 2021-03-09 16:00:00    8238           8237\n",
       "30 2021-03-10 16:00:00    8810           8809\n",
       "31 2021-03-11 16:00:00    9753           9752\n",
       "32 2021-03-12 16:00:00   10466          10466\n",
       "33 2021-03-13 16:00:00   11218          11218\n",
       "34 2021-03-14 16:00:00   11543          11542\n",
       "35 2021-03-15 16:00:00   12100          12101\n",
       "36 2021-03-16 16:00:00   13008          13008\n",
       "37 2021-03-17 16:00:00   13986          13986\n",
       "38 2021-03-18 16:00:00   15523          15523\n",
       "39 2021-03-19 16:00:00   16702          16700\n",
       "40 2021-03-20 16:00:00   17750          17749\n",
       "41 2021-03-21 16:00:00   18223          18222\n",
       "42 2021-03-22 16:00:00   19168          19167\n",
       "43 2021-03-23 16:00:00   20451          20451\n",
       "44 2021-03-24 16:00:00   21868          21868\n",
       "45 2021-03-25 16:00:00   23612          23611\n",
       "46 2021-03-26 16:00:00   25333          25331\n",
       "47 2021-03-27 16:00:00   26630          26626\n",
       "48 2021-03-28 16:00:00   27099          27095\n",
       "49 2021-03-29 16:00:00   28446          28441\n",
       "50 2021-03-30 16:00:00   29952          29946\n",
       "51 2021-03-31 16:00:00   31680          31672\n",
       "52 2021-04-01 16:00:00   33705          33694\n",
       "53 2021-04-02 16:00:00   35539          35527\n",
       "54 2021-04-03 16:00:00   36459          36447\n",
       "55 2021-04-04 16:00:00   37591          37579\n",
       "56 2021-04-05 16:00:00   37993          37982"
      ]
     },
     "execution_count": 8,
     "metadata": {},
     "output_type": "execute_result"
    }
   ],
   "source": [
    "data[[\"Timestamp\", \"Faelle\", \"sum_agegroups\"]]"
   ]
  },
  {
   "cell_type": "code",
   "execution_count": 9,
   "metadata": {},
   "outputs": [
    {
     "name": "stdout",
     "output_type": "stream",
     "text": [
      "6490\n"
     ]
    }
   ],
   "source": [
    "Y_MAX = data[age_groups].max().max()\n",
    "print(Y_MAX)"
   ]
  },
  {
   "cell_type": "markdown",
   "metadata": {},
   "source": [
    "increment of data"
   ]
  },
  {
   "cell_type": "code",
   "execution_count": 10,
   "metadata": {},
   "outputs": [],
   "source": [
    "data = data.drop('Dayname', 1)"
   ]
  },
  {
   "cell_type": "code",
   "execution_count": 11,
   "metadata": {},
   "outputs": [],
   "source": [
    "Δdata = data.diff()\n",
    "# if all increments of time are one day then replace with original dates (not increments)\n",
    "Δdata[\"Timestamp\"] = data[\"Timestamp\"]"
   ]
  },
  {
   "cell_type": "code",
   "execution_count": 12,
   "metadata": {},
   "outputs": [
    {
     "data": {
      "text/html": [
       "<div>\n",
       "<style scoped>\n",
       "    .dataframe tbody tr th:only-of-type {\n",
       "        vertical-align: middle;\n",
       "    }\n",
       "\n",
       "    .dataframe tbody tr th {\n",
       "        vertical-align: top;\n",
       "    }\n",
       "\n",
       "    .dataframe thead th {\n",
       "        text-align: right;\n",
       "    }\n",
       "</style>\n",
       "<table border=\"1\" class=\"dataframe\">\n",
       "  <thead>\n",
       "    <tr style=\"text-align: right;\">\n",
       "      <th></th>\n",
       "      <th>Timestamp</th>\n",
       "      <th>0-9</th>\n",
       "      <th>10-19</th>\n",
       "      <th>20-29</th>\n",
       "      <th>30-39</th>\n",
       "      <th>40-49</th>\n",
       "      <th>50-59</th>\n",
       "      <th>60-69</th>\n",
       "      <th>70-79</th>\n",
       "      <th>80-89</th>\n",
       "      <th>...</th>\n",
       "      <th>nAusbrueche_KW53_2020_Varinten</th>\n",
       "      <th>n_Ausbrueche_Pflegeheimen</th>\n",
       "      <th>nAusbrueche_Pflefeheimen_Varianten</th>\n",
       "      <th>n_Ausbrueche_Schulen</th>\n",
       "      <th>n_Ausbrueche_Schulen_Varianten</th>\n",
       "      <th>n_Ausbrueche_Kitas</th>\n",
       "      <th>n_Ausbrueche_Kitas_Varianten</th>\n",
       "      <th>n_neue_Fälle_ges</th>\n",
       "      <th>n_ges</th>\n",
       "      <th>sum_agegroups</th>\n",
       "    </tr>\n",
       "  </thead>\n",
       "  <tbody>\n",
       "    <tr>\n",
       "      <th>0</th>\n",
       "      <td>2021-02-08 16:00:00</td>\n",
       "      <td>NaN</td>\n",
       "      <td>NaN</td>\n",
       "      <td>NaN</td>\n",
       "      <td>NaN</td>\n",
       "      <td>NaN</td>\n",
       "      <td>NaN</td>\n",
       "      <td>NaN</td>\n",
       "      <td>NaN</td>\n",
       "      <td>NaN</td>\n",
       "      <td>...</td>\n",
       "      <td>NaN</td>\n",
       "      <td>NaN</td>\n",
       "      <td>NaN</td>\n",
       "      <td>NaN</td>\n",
       "      <td>NaN</td>\n",
       "      <td>NaN</td>\n",
       "      <td>NaN</td>\n",
       "      <td>NaN</td>\n",
       "      <td>NaN</td>\n",
       "      <td>NaN</td>\n",
       "    </tr>\n",
       "    <tr>\n",
       "      <th>1</th>\n",
       "      <td>2021-02-09 16:00:00</td>\n",
       "      <td>5.0</td>\n",
       "      <td>11.0</td>\n",
       "      <td>27.0</td>\n",
       "      <td>27.0</td>\n",
       "      <td>25.0</td>\n",
       "      <td>34.0</td>\n",
       "      <td>21.0</td>\n",
       "      <td>7.0</td>\n",
       "      <td>4.0</td>\n",
       "      <td>...</td>\n",
       "      <td>77.0</td>\n",
       "      <td>2.0</td>\n",
       "      <td>11.0</td>\n",
       "      <td>0.0</td>\n",
       "      <td>2.0</td>\n",
       "      <td>2.0</td>\n",
       "      <td>3.0</td>\n",
       "      <td>622.0</td>\n",
       "      <td>1013.0</td>\n",
       "      <td>165.0</td>\n",
       "    </tr>\n",
       "    <tr>\n",
       "      <th>2</th>\n",
       "      <td>2021-02-10 16:00:00</td>\n",
       "      <td>5.0</td>\n",
       "      <td>10.0</td>\n",
       "      <td>13.0</td>\n",
       "      <td>-4.0</td>\n",
       "      <td>7.0</td>\n",
       "      <td>-8.0</td>\n",
       "      <td>-8.0</td>\n",
       "      <td>-7.0</td>\n",
       "      <td>-15.0</td>\n",
       "      <td>...</td>\n",
       "      <td>4.0</td>\n",
       "      <td>-6.0</td>\n",
       "      <td>-27.0</td>\n",
       "      <td>2.0</td>\n",
       "      <td>12.0</td>\n",
       "      <td>-1.0</td>\n",
       "      <td>-2.0</td>\n",
       "      <td>215.0</td>\n",
       "      <td>1228.0</td>\n",
       "      <td>-14.0</td>\n",
       "    </tr>\n",
       "    <tr>\n",
       "      <th>3</th>\n",
       "      <td>2021-02-11 16:00:00</td>\n",
       "      <td>5.0</td>\n",
       "      <td>14.0</td>\n",
       "      <td>21.0</td>\n",
       "      <td>21.0</td>\n",
       "      <td>30.0</td>\n",
       "      <td>26.0</td>\n",
       "      <td>7.0</td>\n",
       "      <td>10.0</td>\n",
       "      <td>4.0</td>\n",
       "      <td>...</td>\n",
       "      <td>72.0</td>\n",
       "      <td>1.0</td>\n",
       "      <td>5.0</td>\n",
       "      <td>0.0</td>\n",
       "      <td>16.0</td>\n",
       "      <td>0.0</td>\n",
       "      <td>0.0</td>\n",
       "      <td>-305.0</td>\n",
       "      <td>923.0</td>\n",
       "      <td>138.0</td>\n",
       "    </tr>\n",
       "    <tr>\n",
       "      <th>4</th>\n",
       "      <td>2021-02-12 16:00:00</td>\n",
       "      <td>10.0</td>\n",
       "      <td>27.0</td>\n",
       "      <td>29.0</td>\n",
       "      <td>30.0</td>\n",
       "      <td>38.0</td>\n",
       "      <td>50.0</td>\n",
       "      <td>13.0</td>\n",
       "      <td>3.0</td>\n",
       "      <td>4.0</td>\n",
       "      <td>...</td>\n",
       "      <td>65.0</td>\n",
       "      <td>1.0</td>\n",
       "      <td>2.0</td>\n",
       "      <td>0.0</td>\n",
       "      <td>1.0</td>\n",
       "      <td>0.0</td>\n",
       "      <td>0.0</td>\n",
       "      <td>-103.0</td>\n",
       "      <td>820.0</td>\n",
       "      <td>205.0</td>\n",
       "    </tr>\n",
       "    <tr>\n",
       "      <th>5</th>\n",
       "      <td>2021-02-13 16:00:00</td>\n",
       "      <td>7.0</td>\n",
       "      <td>17.0</td>\n",
       "      <td>25.0</td>\n",
       "      <td>25.0</td>\n",
       "      <td>25.0</td>\n",
       "      <td>39.0</td>\n",
       "      <td>12.0</td>\n",
       "      <td>10.0</td>\n",
       "      <td>10.0</td>\n",
       "      <td>...</td>\n",
       "      <td>48.0</td>\n",
       "      <td>2.0</td>\n",
       "      <td>12.0</td>\n",
       "      <td>0.0</td>\n",
       "      <td>0.0</td>\n",
       "      <td>0.0</td>\n",
       "      <td>1.0</td>\n",
       "      <td>-41.0</td>\n",
       "      <td>779.0</td>\n",
       "      <td>172.0</td>\n",
       "    </tr>\n",
       "    <tr>\n",
       "      <th>6</th>\n",
       "      <td>2021-02-14 16:00:00</td>\n",
       "      <td>4.0</td>\n",
       "      <td>7.0</td>\n",
       "      <td>13.0</td>\n",
       "      <td>14.0</td>\n",
       "      <td>4.0</td>\n",
       "      <td>9.0</td>\n",
       "      <td>10.0</td>\n",
       "      <td>0.0</td>\n",
       "      <td>0.0</td>\n",
       "      <td>...</td>\n",
       "      <td>17.0</td>\n",
       "      <td>0.0</td>\n",
       "      <td>0.0</td>\n",
       "      <td>0.0</td>\n",
       "      <td>0.0</td>\n",
       "      <td>0.0</td>\n",
       "      <td>0.0</td>\n",
       "      <td>-408.0</td>\n",
       "      <td>371.0</td>\n",
       "      <td>62.0</td>\n",
       "    </tr>\n",
       "    <tr>\n",
       "      <th>7</th>\n",
       "      <td>2021-02-15 16:00:00</td>\n",
       "      <td>3.0</td>\n",
       "      <td>10.0</td>\n",
       "      <td>24.0</td>\n",
       "      <td>20.0</td>\n",
       "      <td>22.0</td>\n",
       "      <td>15.0</td>\n",
       "      <td>12.0</td>\n",
       "      <td>10.0</td>\n",
       "      <td>5.0</td>\n",
       "      <td>...</td>\n",
       "      <td>38.0</td>\n",
       "      <td>0.0</td>\n",
       "      <td>3.0</td>\n",
       "      <td>0.0</td>\n",
       "      <td>0.0</td>\n",
       "      <td>1.0</td>\n",
       "      <td>1.0</td>\n",
       "      <td>-149.0</td>\n",
       "      <td>222.0</td>\n",
       "      <td>123.0</td>\n",
       "    </tr>\n",
       "    <tr>\n",
       "      <th>8</th>\n",
       "      <td>2021-02-16 16:00:00</td>\n",
       "      <td>6.0</td>\n",
       "      <td>13.0</td>\n",
       "      <td>14.0</td>\n",
       "      <td>19.0</td>\n",
       "      <td>29.0</td>\n",
       "      <td>26.0</td>\n",
       "      <td>12.0</td>\n",
       "      <td>4.0</td>\n",
       "      <td>10.0</td>\n",
       "      <td>...</td>\n",
       "      <td>79.0</td>\n",
       "      <td>1.0</td>\n",
       "      <td>4.0</td>\n",
       "      <td>1.0</td>\n",
       "      <td>7.0</td>\n",
       "      <td>1.0</td>\n",
       "      <td>2.0</td>\n",
       "      <td>546.0</td>\n",
       "      <td>768.0</td>\n",
       "      <td>133.0</td>\n",
       "    </tr>\n",
       "    <tr>\n",
       "      <th>9</th>\n",
       "      <td>2021-02-17 16:00:00</td>\n",
       "      <td>7.0</td>\n",
       "      <td>17.0</td>\n",
       "      <td>26.0</td>\n",
       "      <td>32.0</td>\n",
       "      <td>32.0</td>\n",
       "      <td>34.0</td>\n",
       "      <td>17.0</td>\n",
       "      <td>5.0</td>\n",
       "      <td>6.0</td>\n",
       "      <td>...</td>\n",
       "      <td>74.0</td>\n",
       "      <td>0.0</td>\n",
       "      <td>15.0</td>\n",
       "      <td>0.0</td>\n",
       "      <td>0.0</td>\n",
       "      <td>0.0</td>\n",
       "      <td>0.0</td>\n",
       "      <td>145.0</td>\n",
       "      <td>913.0</td>\n",
       "      <td>185.0</td>\n",
       "    </tr>\n",
       "    <tr>\n",
       "      <th>10</th>\n",
       "      <td>2021-02-18 16:00:00</td>\n",
       "      <td>14.0</td>\n",
       "      <td>25.0</td>\n",
       "      <td>26.0</td>\n",
       "      <td>55.0</td>\n",
       "      <td>36.0</td>\n",
       "      <td>36.0</td>\n",
       "      <td>23.0</td>\n",
       "      <td>11.0</td>\n",
       "      <td>7.0</td>\n",
       "      <td>...</td>\n",
       "      <td>75.0</td>\n",
       "      <td>0.0</td>\n",
       "      <td>6.0</td>\n",
       "      <td>0.0</td>\n",
       "      <td>2.0</td>\n",
       "      <td>2.0</td>\n",
       "      <td>4.0</td>\n",
       "      <td>22.0</td>\n",
       "      <td>935.0</td>\n",
       "      <td>235.0</td>\n",
       "    </tr>\n",
       "    <tr>\n",
       "      <th>11</th>\n",
       "      <td>2021-02-19 16:00:00</td>\n",
       "      <td>20.0</td>\n",
       "      <td>18.0</td>\n",
       "      <td>33.0</td>\n",
       "      <td>42.0</td>\n",
       "      <td>32.0</td>\n",
       "      <td>40.0</td>\n",
       "      <td>14.0</td>\n",
       "      <td>1.0</td>\n",
       "      <td>7.0</td>\n",
       "      <td>...</td>\n",
       "      <td>-149.0</td>\n",
       "      <td>0.0</td>\n",
       "      <td>-21.0</td>\n",
       "      <td>0.0</td>\n",
       "      <td>-2.0</td>\n",
       "      <td>-2.0</td>\n",
       "      <td>-4.0</td>\n",
       "      <td>64.0</td>\n",
       "      <td>999.0</td>\n",
       "      <td>207.0</td>\n",
       "    </tr>\n",
       "    <tr>\n",
       "      <th>12</th>\n",
       "      <td>2021-02-20 16:00:00</td>\n",
       "      <td>18.0</td>\n",
       "      <td>10.0</td>\n",
       "      <td>26.0</td>\n",
       "      <td>28.0</td>\n",
       "      <td>26.0</td>\n",
       "      <td>45.0</td>\n",
       "      <td>20.0</td>\n",
       "      <td>8.0</td>\n",
       "      <td>7.0</td>\n",
       "      <td>...</td>\n",
       "      <td>296.0</td>\n",
       "      <td>3.0</td>\n",
       "      <td>29.0</td>\n",
       "      <td>1.0</td>\n",
       "      <td>3.0</td>\n",
       "      <td>4.0</td>\n",
       "      <td>19.0</td>\n",
       "      <td>-141.0</td>\n",
       "      <td>858.0</td>\n",
       "      <td>193.0</td>\n",
       "    </tr>\n",
       "    <tr>\n",
       "      <th>13</th>\n",
       "      <td>2021-02-21 16:00:00</td>\n",
       "      <td>4.0</td>\n",
       "      <td>6.0</td>\n",
       "      <td>17.0</td>\n",
       "      <td>19.0</td>\n",
       "      <td>12.0</td>\n",
       "      <td>19.0</td>\n",
       "      <td>40.0</td>\n",
       "      <td>4.0</td>\n",
       "      <td>1.0</td>\n",
       "      <td>...</td>\n",
       "      <td>27.0</td>\n",
       "      <td>1.0</td>\n",
       "      <td>1.0</td>\n",
       "      <td>0.0</td>\n",
       "      <td>1.0</td>\n",
       "      <td>0.0</td>\n",
       "      <td>0.0</td>\n",
       "      <td>-555.0</td>\n",
       "      <td>303.0</td>\n",
       "      <td>123.0</td>\n",
       "    </tr>\n",
       "    <tr>\n",
       "      <th>14</th>\n",
       "      <td>2021-02-22 16:00:00</td>\n",
       "      <td>11.0</td>\n",
       "      <td>12.0</td>\n",
       "      <td>15.0</td>\n",
       "      <td>13.0</td>\n",
       "      <td>8.0</td>\n",
       "      <td>13.0</td>\n",
       "      <td>-24.0</td>\n",
       "      <td>6.0</td>\n",
       "      <td>4.0</td>\n",
       "      <td>...</td>\n",
       "      <td>46.0</td>\n",
       "      <td>-2.0</td>\n",
       "      <td>-1.0</td>\n",
       "      <td>0.0</td>\n",
       "      <td>1.0</td>\n",
       "      <td>-1.0</td>\n",
       "      <td>1.0</td>\n",
       "      <td>84.0</td>\n",
       "      <td>387.0</td>\n",
       "      <td>59.0</td>\n",
       "    </tr>\n",
       "    <tr>\n",
       "      <th>15</th>\n",
       "      <td>2021-02-23 16:00:00</td>\n",
       "      <td>19.0</td>\n",
       "      <td>15.0</td>\n",
       "      <td>28.0</td>\n",
       "      <td>41.0</td>\n",
       "      <td>20.0</td>\n",
       "      <td>37.0</td>\n",
       "      <td>26.0</td>\n",
       "      <td>2.0</td>\n",
       "      <td>15.0</td>\n",
       "      <td>...</td>\n",
       "      <td>86.0</td>\n",
       "      <td>1.0</td>\n",
       "      <td>14.0</td>\n",
       "      <td>-1.0</td>\n",
       "      <td>2.0</td>\n",
       "      <td>2.0</td>\n",
       "      <td>24.0</td>\n",
       "      <td>505.0</td>\n",
       "      <td>892.0</td>\n",
       "      <td>208.0</td>\n",
       "    </tr>\n",
       "    <tr>\n",
       "      <th>16</th>\n",
       "      <td>2021-02-24 16:00:00</td>\n",
       "      <td>21.0</td>\n",
       "      <td>18.0</td>\n",
       "      <td>50.0</td>\n",
       "      <td>33.0</td>\n",
       "      <td>45.0</td>\n",
       "      <td>38.0</td>\n",
       "      <td>19.0</td>\n",
       "      <td>16.0</td>\n",
       "      <td>23.0</td>\n",
       "      <td>...</td>\n",
       "      <td>119.0</td>\n",
       "      <td>2.0</td>\n",
       "      <td>25.0</td>\n",
       "      <td>0.0</td>\n",
       "      <td>0.0</td>\n",
       "      <td>1.0</td>\n",
       "      <td>11.0</td>\n",
       "      <td>-773.0</td>\n",
       "      <td>1119.0</td>\n",
       "      <td>269.0</td>\n",
       "    </tr>\n",
       "    <tr>\n",
       "      <th>17</th>\n",
       "      <td>2021-02-25 16:00:00</td>\n",
       "      <td>36.0</td>\n",
       "      <td>33.0</td>\n",
       "      <td>57.0</td>\n",
       "      <td>71.0</td>\n",
       "      <td>64.0</td>\n",
       "      <td>63.0</td>\n",
       "      <td>37.0</td>\n",
       "      <td>18.0</td>\n",
       "      <td>10.0</td>\n",
       "      <td>...</td>\n",
       "      <td>126.0</td>\n",
       "      <td>2.0</td>\n",
       "      <td>5.0</td>\n",
       "      <td>0.0</td>\n",
       "      <td>0.0</td>\n",
       "      <td>2.0</td>\n",
       "      <td>16.0</td>\n",
       "      <td>990.0</td>\n",
       "      <td>1109.0</td>\n",
       "      <td>392.0</td>\n",
       "    </tr>\n",
       "    <tr>\n",
       "      <th>18</th>\n",
       "      <td>2021-02-26 16:00:00</td>\n",
       "      <td>19.0</td>\n",
       "      <td>26.0</td>\n",
       "      <td>60.0</td>\n",
       "      <td>54.0</td>\n",
       "      <td>51.0</td>\n",
       "      <td>63.0</td>\n",
       "      <td>23.0</td>\n",
       "      <td>17.0</td>\n",
       "      <td>14.0</td>\n",
       "      <td>...</td>\n",
       "      <td>108.0</td>\n",
       "      <td>1.0</td>\n",
       "      <td>3.0</td>\n",
       "      <td>0.0</td>\n",
       "      <td>1.0</td>\n",
       "      <td>0.0</td>\n",
       "      <td>7.0</td>\n",
       "      <td>-162.0</td>\n",
       "      <td>947.0</td>\n",
       "      <td>328.0</td>\n",
       "    </tr>\n",
       "    <tr>\n",
       "      <th>19</th>\n",
       "      <td>2021-02-27 16:00:00</td>\n",
       "      <td>22.0</td>\n",
       "      <td>49.0</td>\n",
       "      <td>48.0</td>\n",
       "      <td>63.0</td>\n",
       "      <td>61.0</td>\n",
       "      <td>54.0</td>\n",
       "      <td>28.0</td>\n",
       "      <td>8.0</td>\n",
       "      <td>12.0</td>\n",
       "      <td>...</td>\n",
       "      <td>66.0</td>\n",
       "      <td>0.0</td>\n",
       "      <td>1.0</td>\n",
       "      <td>0.0</td>\n",
       "      <td>0.0</td>\n",
       "      <td>2.0</td>\n",
       "      <td>6.0</td>\n",
       "      <td>40.0</td>\n",
       "      <td>987.0</td>\n",
       "      <td>347.0</td>\n",
       "    </tr>\n",
       "    <tr>\n",
       "      <th>20</th>\n",
       "      <td>2021-02-28 16:00:00</td>\n",
       "      <td>5.0</td>\n",
       "      <td>7.0</td>\n",
       "      <td>2.0</td>\n",
       "      <td>10.0</td>\n",
       "      <td>18.0</td>\n",
       "      <td>18.0</td>\n",
       "      <td>6.0</td>\n",
       "      <td>8.0</td>\n",
       "      <td>0.0</td>\n",
       "      <td>...</td>\n",
       "      <td>23.0</td>\n",
       "      <td>1.0</td>\n",
       "      <td>3.0</td>\n",
       "      <td>0.0</td>\n",
       "      <td>1.0</td>\n",
       "      <td>0.0</td>\n",
       "      <td>0.0</td>\n",
       "      <td>-504.0</td>\n",
       "      <td>483.0</td>\n",
       "      <td>74.0</td>\n",
       "    </tr>\n",
       "    <tr>\n",
       "      <th>21</th>\n",
       "      <td>2021-03-01 16:00:00</td>\n",
       "      <td>15.0</td>\n",
       "      <td>11.0</td>\n",
       "      <td>31.0</td>\n",
       "      <td>38.0</td>\n",
       "      <td>21.0</td>\n",
       "      <td>31.0</td>\n",
       "      <td>16.0</td>\n",
       "      <td>13.0</td>\n",
       "      <td>6.0</td>\n",
       "      <td>...</td>\n",
       "      <td>54.0</td>\n",
       "      <td>1.0</td>\n",
       "      <td>3.0</td>\n",
       "      <td>1.0</td>\n",
       "      <td>0.0</td>\n",
       "      <td>0.0</td>\n",
       "      <td>0.0</td>\n",
       "      <td>-85.0</td>\n",
       "      <td>398.0</td>\n",
       "      <td>183.0</td>\n",
       "    </tr>\n",
       "    <tr>\n",
       "      <th>22</th>\n",
       "      <td>2021-03-02 16:00:00</td>\n",
       "      <td>36.0</td>\n",
       "      <td>23.0</td>\n",
       "      <td>29.0</td>\n",
       "      <td>49.0</td>\n",
       "      <td>52.0</td>\n",
       "      <td>95.0</td>\n",
       "      <td>20.0</td>\n",
       "      <td>4.0</td>\n",
       "      <td>-11.0</td>\n",
       "      <td>...</td>\n",
       "      <td>37.0</td>\n",
       "      <td>-5.0</td>\n",
       "      <td>-32.0</td>\n",
       "      <td>0.0</td>\n",
       "      <td>0.0</td>\n",
       "      <td>-1.0</td>\n",
       "      <td>7.0</td>\n",
       "      <td>687.0</td>\n",
       "      <td>1085.0</td>\n",
       "      <td>283.0</td>\n",
       "    </tr>\n",
       "    <tr>\n",
       "      <th>23</th>\n",
       "      <td>2021-03-03 16:00:00</td>\n",
       "      <td>28.0</td>\n",
       "      <td>37.0</td>\n",
       "      <td>53.0</td>\n",
       "      <td>69.0</td>\n",
       "      <td>76.0</td>\n",
       "      <td>27.0</td>\n",
       "      <td>32.0</td>\n",
       "      <td>15.0</td>\n",
       "      <td>13.0</td>\n",
       "      <td>...</td>\n",
       "      <td>181.0</td>\n",
       "      <td>-1.0</td>\n",
       "      <td>2.0</td>\n",
       "      <td>0.0</td>\n",
       "      <td>3.0</td>\n",
       "      <td>1.0</td>\n",
       "      <td>8.0</td>\n",
       "      <td>300.0</td>\n",
       "      <td>1385.0</td>\n",
       "      <td>354.0</td>\n",
       "    </tr>\n",
       "    <tr>\n",
       "      <th>24</th>\n",
       "      <td>2021-03-04 16:00:00</td>\n",
       "      <td>45.0</td>\n",
       "      <td>52.0</td>\n",
       "      <td>82.0</td>\n",
       "      <td>75.0</td>\n",
       "      <td>82.0</td>\n",
       "      <td>93.0</td>\n",
       "      <td>50.0</td>\n",
       "      <td>27.0</td>\n",
       "      <td>14.0</td>\n",
       "      <td>...</td>\n",
       "      <td>151.0</td>\n",
       "      <td>1.0</td>\n",
       "      <td>3.0</td>\n",
       "      <td>0.0</td>\n",
       "      <td>0.0</td>\n",
       "      <td>4.0</td>\n",
       "      <td>10.0</td>\n",
       "      <td>-109.0</td>\n",
       "      <td>1276.0</td>\n",
       "      <td>520.0</td>\n",
       "    </tr>\n",
       "    <tr>\n",
       "      <th>25</th>\n",
       "      <td>2021-03-05 16:00:00</td>\n",
       "      <td>52.0</td>\n",
       "      <td>75.0</td>\n",
       "      <td>114.0</td>\n",
       "      <td>104.0</td>\n",
       "      <td>103.0</td>\n",
       "      <td>109.0</td>\n",
       "      <td>41.0</td>\n",
       "      <td>22.0</td>\n",
       "      <td>15.0</td>\n",
       "      <td>...</td>\n",
       "      <td>197.0</td>\n",
       "      <td>1.0</td>\n",
       "      <td>9.0</td>\n",
       "      <td>1.0</td>\n",
       "      <td>5.0</td>\n",
       "      <td>2.0</td>\n",
       "      <td>12.0</td>\n",
       "      <td>-206.0</td>\n",
       "      <td>1070.0</td>\n",
       "      <td>638.0</td>\n",
       "    </tr>\n",
       "    <tr>\n",
       "      <th>26</th>\n",
       "      <td>2021-03-06 16:00:00</td>\n",
       "      <td>47.0</td>\n",
       "      <td>67.0</td>\n",
       "      <td>65.0</td>\n",
       "      <td>78.0</td>\n",
       "      <td>73.0</td>\n",
       "      <td>67.0</td>\n",
       "      <td>45.0</td>\n",
       "      <td>11.0</td>\n",
       "      <td>9.0</td>\n",
       "      <td>...</td>\n",
       "      <td>89.0</td>\n",
       "      <td>1.0</td>\n",
       "      <td>7.0</td>\n",
       "      <td>0.0</td>\n",
       "      <td>0.0</td>\n",
       "      <td>1.0</td>\n",
       "      <td>7.0</td>\n",
       "      <td>139.0</td>\n",
       "      <td>1209.0</td>\n",
       "      <td>473.0</td>\n",
       "    </tr>\n",
       "    <tr>\n",
       "      <th>27</th>\n",
       "      <td>2021-03-07 16:00:00</td>\n",
       "      <td>16.0</td>\n",
       "      <td>13.0</td>\n",
       "      <td>19.0</td>\n",
       "      <td>18.0</td>\n",
       "      <td>18.0</td>\n",
       "      <td>17.0</td>\n",
       "      <td>6.0</td>\n",
       "      <td>2.0</td>\n",
       "      <td>1.0</td>\n",
       "      <td>...</td>\n",
       "      <td>59.0</td>\n",
       "      <td>0.0</td>\n",
       "      <td>0.0</td>\n",
       "      <td>0.0</td>\n",
       "      <td>0.0</td>\n",
       "      <td>0.0</td>\n",
       "      <td>0.0</td>\n",
       "      <td>-723.0</td>\n",
       "      <td>486.0</td>\n",
       "      <td>111.0</td>\n",
       "    </tr>\n",
       "    <tr>\n",
       "      <th>28</th>\n",
       "      <td>2021-03-08 16:00:00</td>\n",
       "      <td>22.0</td>\n",
       "      <td>37.0</td>\n",
       "      <td>48.0</td>\n",
       "      <td>70.0</td>\n",
       "      <td>70.0</td>\n",
       "      <td>63.0</td>\n",
       "      <td>45.0</td>\n",
       "      <td>18.0</td>\n",
       "      <td>22.0</td>\n",
       "      <td>...</td>\n",
       "      <td>129.0</td>\n",
       "      <td>0.0</td>\n",
       "      <td>2.0</td>\n",
       "      <td>1.0</td>\n",
       "      <td>1.0</td>\n",
       "      <td>0.0</td>\n",
       "      <td>15.0</td>\n",
       "      <td>-72.0</td>\n",
       "      <td>414.0</td>\n",
       "      <td>400.0</td>\n",
       "    </tr>\n",
       "    <tr>\n",
       "      <th>29</th>\n",
       "      <td>2021-03-09 16:00:00</td>\n",
       "      <td>62.0</td>\n",
       "      <td>67.0</td>\n",
       "      <td>96.0</td>\n",
       "      <td>95.0</td>\n",
       "      <td>80.0</td>\n",
       "      <td>101.0</td>\n",
       "      <td>48.0</td>\n",
       "      <td>20.0</td>\n",
       "      <td>13.0</td>\n",
       "      <td>...</td>\n",
       "      <td>183.0</td>\n",
       "      <td>0.0</td>\n",
       "      <td>4.0</td>\n",
       "      <td>1.0</td>\n",
       "      <td>1.0</td>\n",
       "      <td>3.0</td>\n",
       "      <td>36.0</td>\n",
       "      <td>925.0</td>\n",
       "      <td>1339.0</td>\n",
       "      <td>590.0</td>\n",
       "    </tr>\n",
       "    <tr>\n",
       "      <th>30</th>\n",
       "      <td>2021-03-10 16:00:00</td>\n",
       "      <td>32.0</td>\n",
       "      <td>63.0</td>\n",
       "      <td>85.0</td>\n",
       "      <td>102.0</td>\n",
       "      <td>97.0</td>\n",
       "      <td>108.0</td>\n",
       "      <td>51.0</td>\n",
       "      <td>19.0</td>\n",
       "      <td>10.0</td>\n",
       "      <td>...</td>\n",
       "      <td>171.0</td>\n",
       "      <td>1.0</td>\n",
       "      <td>1.0</td>\n",
       "      <td>1.0</td>\n",
       "      <td>7.0</td>\n",
       "      <td>4.0</td>\n",
       "      <td>15.0</td>\n",
       "      <td>144.0</td>\n",
       "      <td>1483.0</td>\n",
       "      <td>572.0</td>\n",
       "    </tr>\n",
       "    <tr>\n",
       "      <th>31</th>\n",
       "      <td>2021-03-11 16:00:00</td>\n",
       "      <td>71.0</td>\n",
       "      <td>90.0</td>\n",
       "      <td>167.0</td>\n",
       "      <td>174.0</td>\n",
       "      <td>134.0</td>\n",
       "      <td>166.0</td>\n",
       "      <td>77.0</td>\n",
       "      <td>38.0</td>\n",
       "      <td>22.0</td>\n",
       "      <td>...</td>\n",
       "      <td>274.0</td>\n",
       "      <td>1.0</td>\n",
       "      <td>4.0</td>\n",
       "      <td>0.0</td>\n",
       "      <td>0.0</td>\n",
       "      <td>9.0</td>\n",
       "      <td>41.0</td>\n",
       "      <td>60.0</td>\n",
       "      <td>1543.0</td>\n",
       "      <td>943.0</td>\n",
       "    </tr>\n",
       "    <tr>\n",
       "      <th>32</th>\n",
       "      <td>2021-03-12 16:00:00</td>\n",
       "      <td>61.0</td>\n",
       "      <td>52.0</td>\n",
       "      <td>143.0</td>\n",
       "      <td>132.0</td>\n",
       "      <td>110.0</td>\n",
       "      <td>121.0</td>\n",
       "      <td>61.0</td>\n",
       "      <td>16.0</td>\n",
       "      <td>13.0</td>\n",
       "      <td>...</td>\n",
       "      <td>234.0</td>\n",
       "      <td>1.0</td>\n",
       "      <td>5.0</td>\n",
       "      <td>2.0</td>\n",
       "      <td>5.0</td>\n",
       "      <td>8.0</td>\n",
       "      <td>52.0</td>\n",
       "      <td>-24.0</td>\n",
       "      <td>1519.0</td>\n",
       "      <td>714.0</td>\n",
       "    </tr>\n",
       "    <tr>\n",
       "      <th>33</th>\n",
       "      <td>2021-03-13 16:00:00</td>\n",
       "      <td>67.0</td>\n",
       "      <td>71.0</td>\n",
       "      <td>123.0</td>\n",
       "      <td>140.0</td>\n",
       "      <td>113.0</td>\n",
       "      <td>138.0</td>\n",
       "      <td>60.0</td>\n",
       "      <td>24.0</td>\n",
       "      <td>12.0</td>\n",
       "      <td>...</td>\n",
       "      <td>131.0</td>\n",
       "      <td>1.0</td>\n",
       "      <td>1.0</td>\n",
       "      <td>1.0</td>\n",
       "      <td>2.0</td>\n",
       "      <td>4.0</td>\n",
       "      <td>38.0</td>\n",
       "      <td>56.0</td>\n",
       "      <td>1575.0</td>\n",
       "      <td>752.0</td>\n",
       "    </tr>\n",
       "    <tr>\n",
       "      <th>34</th>\n",
       "      <td>2021-03-14 16:00:00</td>\n",
       "      <td>29.0</td>\n",
       "      <td>28.0</td>\n",
       "      <td>52.0</td>\n",
       "      <td>57.0</td>\n",
       "      <td>51.0</td>\n",
       "      <td>60.0</td>\n",
       "      <td>32.0</td>\n",
       "      <td>9.0</td>\n",
       "      <td>6.0</td>\n",
       "      <td>...</td>\n",
       "      <td>61.0</td>\n",
       "      <td>0.0</td>\n",
       "      <td>0.0</td>\n",
       "      <td>0.0</td>\n",
       "      <td>0.0</td>\n",
       "      <td>1.0</td>\n",
       "      <td>9.0</td>\n",
       "      <td>-916.0</td>\n",
       "      <td>659.0</td>\n",
       "      <td>324.0</td>\n",
       "    </tr>\n",
       "    <tr>\n",
       "      <th>35</th>\n",
       "      <td>2021-03-15 16:00:00</td>\n",
       "      <td>69.0</td>\n",
       "      <td>65.0</td>\n",
       "      <td>93.0</td>\n",
       "      <td>79.0</td>\n",
       "      <td>89.0</td>\n",
       "      <td>96.0</td>\n",
       "      <td>35.0</td>\n",
       "      <td>21.0</td>\n",
       "      <td>8.0</td>\n",
       "      <td>...</td>\n",
       "      <td>206.0</td>\n",
       "      <td>0.0</td>\n",
       "      <td>0.0</td>\n",
       "      <td>0.0</td>\n",
       "      <td>0.0</td>\n",
       "      <td>7.0</td>\n",
       "      <td>43.0</td>\n",
       "      <td>-222.0</td>\n",
       "      <td>437.0</td>\n",
       "      <td>559.0</td>\n",
       "    </tr>\n",
       "    <tr>\n",
       "      <th>36</th>\n",
       "      <td>2021-03-16 16:00:00</td>\n",
       "      <td>113.0</td>\n",
       "      <td>93.0</td>\n",
       "      <td>158.0</td>\n",
       "      <td>150.0</td>\n",
       "      <td>145.0</td>\n",
       "      <td>121.0</td>\n",
       "      <td>78.0</td>\n",
       "      <td>33.0</td>\n",
       "      <td>13.0</td>\n",
       "      <td>...</td>\n",
       "      <td>247.0</td>\n",
       "      <td>2.0</td>\n",
       "      <td>3.0</td>\n",
       "      <td>4.0</td>\n",
       "      <td>10.0</td>\n",
       "      <td>9.0</td>\n",
       "      <td>78.0</td>\n",
       "      <td>1526.0</td>\n",
       "      <td>1963.0</td>\n",
       "      <td>907.0</td>\n",
       "    </tr>\n",
       "    <tr>\n",
       "      <th>37</th>\n",
       "      <td>2021-03-17 16:00:00</td>\n",
       "      <td>99.0</td>\n",
       "      <td>112.0</td>\n",
       "      <td>149.0</td>\n",
       "      <td>183.0</td>\n",
       "      <td>148.0</td>\n",
       "      <td>148.0</td>\n",
       "      <td>81.0</td>\n",
       "      <td>29.0</td>\n",
       "      <td>22.0</td>\n",
       "      <td>...</td>\n",
       "      <td>259.0</td>\n",
       "      <td>3.0</td>\n",
       "      <td>7.0</td>\n",
       "      <td>1.0</td>\n",
       "      <td>5.0</td>\n",
       "      <td>4.0</td>\n",
       "      <td>44.0</td>\n",
       "      <td>165.0</td>\n",
       "      <td>2128.0</td>\n",
       "      <td>978.0</td>\n",
       "    </tr>\n",
       "    <tr>\n",
       "      <th>38</th>\n",
       "      <td>2021-03-18 16:00:00</td>\n",
       "      <td>133.0</td>\n",
       "      <td>165.0</td>\n",
       "      <td>252.0</td>\n",
       "      <td>254.0</td>\n",
       "      <td>238.0</td>\n",
       "      <td>239.0</td>\n",
       "      <td>143.0</td>\n",
       "      <td>69.0</td>\n",
       "      <td>37.0</td>\n",
       "      <td>...</td>\n",
       "      <td>315.0</td>\n",
       "      <td>0.0</td>\n",
       "      <td>10.0</td>\n",
       "      <td>3.0</td>\n",
       "      <td>9.0</td>\n",
       "      <td>12.0</td>\n",
       "      <td>76.0</td>\n",
       "      <td>-129.0</td>\n",
       "      <td>1999.0</td>\n",
       "      <td>1537.0</td>\n",
       "    </tr>\n",
       "    <tr>\n",
       "      <th>39</th>\n",
       "      <td>2021-03-19 16:00:00</td>\n",
       "      <td>119.0</td>\n",
       "      <td>127.0</td>\n",
       "      <td>190.0</td>\n",
       "      <td>212.0</td>\n",
       "      <td>180.0</td>\n",
       "      <td>189.0</td>\n",
       "      <td>91.0</td>\n",
       "      <td>42.0</td>\n",
       "      <td>20.0</td>\n",
       "      <td>...</td>\n",
       "      <td>258.0</td>\n",
       "      <td>0.0</td>\n",
       "      <td>3.0</td>\n",
       "      <td>2.0</td>\n",
       "      <td>3.0</td>\n",
       "      <td>4.0</td>\n",
       "      <td>65.0</td>\n",
       "      <td>-67.0</td>\n",
       "      <td>1932.0</td>\n",
       "      <td>1177.0</td>\n",
       "    </tr>\n",
       "    <tr>\n",
       "      <th>40</th>\n",
       "      <td>2021-03-20 16:00:00</td>\n",
       "      <td>109.0</td>\n",
       "      <td>99.0</td>\n",
       "      <td>187.0</td>\n",
       "      <td>172.0</td>\n",
       "      <td>182.0</td>\n",
       "      <td>163.0</td>\n",
       "      <td>88.0</td>\n",
       "      <td>29.0</td>\n",
       "      <td>17.0</td>\n",
       "      <td>...</td>\n",
       "      <td>164.0</td>\n",
       "      <td>1.0</td>\n",
       "      <td>6.0</td>\n",
       "      <td>1.0</td>\n",
       "      <td>1.0</td>\n",
       "      <td>0.0</td>\n",
       "      <td>25.0</td>\n",
       "      <td>340.0</td>\n",
       "      <td>2272.0</td>\n",
       "      <td>1049.0</td>\n",
       "    </tr>\n",
       "    <tr>\n",
       "      <th>41</th>\n",
       "      <td>2021-03-21 16:00:00</td>\n",
       "      <td>44.0</td>\n",
       "      <td>45.0</td>\n",
       "      <td>64.0</td>\n",
       "      <td>79.0</td>\n",
       "      <td>54.0</td>\n",
       "      <td>99.0</td>\n",
       "      <td>52.0</td>\n",
       "      <td>20.0</td>\n",
       "      <td>14.0</td>\n",
       "      <td>...</td>\n",
       "      <td>91.0</td>\n",
       "      <td>0.0</td>\n",
       "      <td>1.0</td>\n",
       "      <td>2.0</td>\n",
       "      <td>10.0</td>\n",
       "      <td>0.0</td>\n",
       "      <td>14.0</td>\n",
       "      <td>-1368.0</td>\n",
       "      <td>904.0</td>\n",
       "      <td>473.0</td>\n",
       "    </tr>\n",
       "    <tr>\n",
       "      <th>42</th>\n",
       "      <td>2021-03-22 16:00:00</td>\n",
       "      <td>102.0</td>\n",
       "      <td>99.0</td>\n",
       "      <td>158.0</td>\n",
       "      <td>167.0</td>\n",
       "      <td>120.0</td>\n",
       "      <td>163.0</td>\n",
       "      <td>76.0</td>\n",
       "      <td>29.0</td>\n",
       "      <td>19.0</td>\n",
       "      <td>...</td>\n",
       "      <td>270.0</td>\n",
       "      <td>3.0</td>\n",
       "      <td>14.0</td>\n",
       "      <td>1.0</td>\n",
       "      <td>6.0</td>\n",
       "      <td>2.0</td>\n",
       "      <td>56.0</td>\n",
       "      <td>-222.0</td>\n",
       "      <td>682.0</td>\n",
       "      <td>945.0</td>\n",
       "    </tr>\n",
       "    <tr>\n",
       "      <th>43</th>\n",
       "      <td>2021-03-23 16:00:00</td>\n",
       "      <td>137.0</td>\n",
       "      <td>132.0</td>\n",
       "      <td>200.0</td>\n",
       "      <td>238.0</td>\n",
       "      <td>168.0</td>\n",
       "      <td>208.0</td>\n",
       "      <td>105.0</td>\n",
       "      <td>55.0</td>\n",
       "      <td>34.0</td>\n",
       "      <td>...</td>\n",
       "      <td>344.0</td>\n",
       "      <td>1.0</td>\n",
       "      <td>11.0</td>\n",
       "      <td>2.0</td>\n",
       "      <td>8.0</td>\n",
       "      <td>5.0</td>\n",
       "      <td>39.0</td>\n",
       "      <td>1303.0</td>\n",
       "      <td>1985.0</td>\n",
       "      <td>1284.0</td>\n",
       "    </tr>\n",
       "    <tr>\n",
       "      <th>44</th>\n",
       "      <td>2021-03-24 16:00:00</td>\n",
       "      <td>126.0</td>\n",
       "      <td>143.0</td>\n",
       "      <td>233.0</td>\n",
       "      <td>224.0</td>\n",
       "      <td>239.0</td>\n",
       "      <td>244.0</td>\n",
       "      <td>125.0</td>\n",
       "      <td>52.0</td>\n",
       "      <td>28.0</td>\n",
       "      <td>...</td>\n",
       "      <td>406.0</td>\n",
       "      <td>1.0</td>\n",
       "      <td>11.0</td>\n",
       "      <td>3.0</td>\n",
       "      <td>8.0</td>\n",
       "      <td>12.0</td>\n",
       "      <td>69.0</td>\n",
       "      <td>954.0</td>\n",
       "      <td>2939.0</td>\n",
       "      <td>1417.0</td>\n",
       "    </tr>\n",
       "    <tr>\n",
       "      <th>45</th>\n",
       "      <td>2021-03-25 16:00:00</td>\n",
       "      <td>154.0</td>\n",
       "      <td>165.0</td>\n",
       "      <td>276.0</td>\n",
       "      <td>302.0</td>\n",
       "      <td>288.0</td>\n",
       "      <td>290.0</td>\n",
       "      <td>165.0</td>\n",
       "      <td>55.0</td>\n",
       "      <td>36.0</td>\n",
       "      <td>...</td>\n",
       "      <td>394.0</td>\n",
       "      <td>1.0</td>\n",
       "      <td>5.0</td>\n",
       "      <td>8.0</td>\n",
       "      <td>22.0</td>\n",
       "      <td>6.0</td>\n",
       "      <td>57.0</td>\n",
       "      <td>-218.0</td>\n",
       "      <td>2721.0</td>\n",
       "      <td>1743.0</td>\n",
       "    </tr>\n",
       "    <tr>\n",
       "      <th>46</th>\n",
       "      <td>2021-03-26 16:00:00</td>\n",
       "      <td>172.0</td>\n",
       "      <td>177.0</td>\n",
       "      <td>250.0</td>\n",
       "      <td>286.0</td>\n",
       "      <td>269.0</td>\n",
       "      <td>296.0</td>\n",
       "      <td>155.0</td>\n",
       "      <td>78.0</td>\n",
       "      <td>33.0</td>\n",
       "      <td>...</td>\n",
       "      <td>376.0</td>\n",
       "      <td>1.0</td>\n",
       "      <td>13.0</td>\n",
       "      <td>4.0</td>\n",
       "      <td>14.0</td>\n",
       "      <td>9.0</td>\n",
       "      <td>66.0</td>\n",
       "      <td>-124.0</td>\n",
       "      <td>2597.0</td>\n",
       "      <td>1720.0</td>\n",
       "    </tr>\n",
       "    <tr>\n",
       "      <th>47</th>\n",
       "      <td>2021-03-27 16:00:00</td>\n",
       "      <td>123.0</td>\n",
       "      <td>156.0</td>\n",
       "      <td>201.0</td>\n",
       "      <td>180.0</td>\n",
       "      <td>215.0</td>\n",
       "      <td>235.0</td>\n",
       "      <td>114.0</td>\n",
       "      <td>43.0</td>\n",
       "      <td>25.0</td>\n",
       "      <td>...</td>\n",
       "      <td>211.0</td>\n",
       "      <td>1.0</td>\n",
       "      <td>2.0</td>\n",
       "      <td>2.0</td>\n",
       "      <td>3.0</td>\n",
       "      <td>3.0</td>\n",
       "      <td>21.0</td>\n",
       "      <td>-448.0</td>\n",
       "      <td>2149.0</td>\n",
       "      <td>1295.0</td>\n",
       "    </tr>\n",
       "    <tr>\n",
       "      <th>48</th>\n",
       "      <td>2021-03-28 16:00:00</td>\n",
       "      <td>48.0</td>\n",
       "      <td>63.0</td>\n",
       "      <td>69.0</td>\n",
       "      <td>73.0</td>\n",
       "      <td>57.0</td>\n",
       "      <td>80.0</td>\n",
       "      <td>47.0</td>\n",
       "      <td>20.0</td>\n",
       "      <td>11.0</td>\n",
       "      <td>...</td>\n",
       "      <td>149.0</td>\n",
       "      <td>-1.0</td>\n",
       "      <td>0.0</td>\n",
       "      <td>1.0</td>\n",
       "      <td>3.0</td>\n",
       "      <td>0.0</td>\n",
       "      <td>1.0</td>\n",
       "      <td>-808.0</td>\n",
       "      <td>1341.0</td>\n",
       "      <td>469.0</td>\n",
       "    </tr>\n",
       "    <tr>\n",
       "      <th>49</th>\n",
       "      <td>2021-03-29 16:00:00</td>\n",
       "      <td>118.0</td>\n",
       "      <td>157.0</td>\n",
       "      <td>205.0</td>\n",
       "      <td>222.0</td>\n",
       "      <td>202.0</td>\n",
       "      <td>214.0</td>\n",
       "      <td>126.0</td>\n",
       "      <td>55.0</td>\n",
       "      <td>35.0</td>\n",
       "      <td>...</td>\n",
       "      <td>254.0</td>\n",
       "      <td>0.0</td>\n",
       "      <td>5.0</td>\n",
       "      <td>8.0</td>\n",
       "      <td>14.0</td>\n",
       "      <td>4.0</td>\n",
       "      <td>42.0</td>\n",
       "      <td>-168.0</td>\n",
       "      <td>1173.0</td>\n",
       "      <td>1346.0</td>\n",
       "    </tr>\n",
       "    <tr>\n",
       "      <th>50</th>\n",
       "      <td>2021-03-30 16:00:00</td>\n",
       "      <td>120.0</td>\n",
       "      <td>185.0</td>\n",
       "      <td>239.0</td>\n",
       "      <td>251.0</td>\n",
       "      <td>235.0</td>\n",
       "      <td>244.0</td>\n",
       "      <td>127.0</td>\n",
       "      <td>58.0</td>\n",
       "      <td>39.0</td>\n",
       "      <td>...</td>\n",
       "      <td>363.0</td>\n",
       "      <td>0.0</td>\n",
       "      <td>1.0</td>\n",
       "      <td>1.0</td>\n",
       "      <td>5.0</td>\n",
       "      <td>3.0</td>\n",
       "      <td>28.0</td>\n",
       "      <td>803.0</td>\n",
       "      <td>1976.0</td>\n",
       "      <td>1505.0</td>\n",
       "    </tr>\n",
       "    <tr>\n",
       "      <th>51</th>\n",
       "      <td>2021-03-31 16:00:00</td>\n",
       "      <td>141.0</td>\n",
       "      <td>174.0</td>\n",
       "      <td>271.0</td>\n",
       "      <td>319.0</td>\n",
       "      <td>255.0</td>\n",
       "      <td>297.0</td>\n",
       "      <td>148.0</td>\n",
       "      <td>77.0</td>\n",
       "      <td>35.0</td>\n",
       "      <td>...</td>\n",
       "      <td>319.0</td>\n",
       "      <td>2.0</td>\n",
       "      <td>7.0</td>\n",
       "      <td>1.0</td>\n",
       "      <td>3.0</td>\n",
       "      <td>4.0</td>\n",
       "      <td>16.0</td>\n",
       "      <td>1350.0</td>\n",
       "      <td>3326.0</td>\n",
       "      <td>1726.0</td>\n",
       "    </tr>\n",
       "    <tr>\n",
       "      <th>52</th>\n",
       "      <td>2021-04-01 16:00:00</td>\n",
       "      <td>164.0</td>\n",
       "      <td>229.0</td>\n",
       "      <td>313.0</td>\n",
       "      <td>331.0</td>\n",
       "      <td>333.0</td>\n",
       "      <td>347.0</td>\n",
       "      <td>186.0</td>\n",
       "      <td>71.0</td>\n",
       "      <td>40.0</td>\n",
       "      <td>...</td>\n",
       "      <td>380.0</td>\n",
       "      <td>2.0</td>\n",
       "      <td>9.0</td>\n",
       "      <td>5.0</td>\n",
       "      <td>20.0</td>\n",
       "      <td>9.0</td>\n",
       "      <td>61.0</td>\n",
       "      <td>-606.0</td>\n",
       "      <td>2720.0</td>\n",
       "      <td>2022.0</td>\n",
       "    </tr>\n",
       "    <tr>\n",
       "      <th>53</th>\n",
       "      <td>2021-04-02 16:00:00</td>\n",
       "      <td>155.0</td>\n",
       "      <td>208.0</td>\n",
       "      <td>305.0</td>\n",
       "      <td>286.0</td>\n",
       "      <td>269.0</td>\n",
       "      <td>319.0</td>\n",
       "      <td>164.0</td>\n",
       "      <td>68.0</td>\n",
       "      <td>47.0</td>\n",
       "      <td>...</td>\n",
       "      <td>251.0</td>\n",
       "      <td>2.0</td>\n",
       "      <td>7.0</td>\n",
       "      <td>0.0</td>\n",
       "      <td>3.0</td>\n",
       "      <td>2.0</td>\n",
       "      <td>17.0</td>\n",
       "      <td>-121.0</td>\n",
       "      <td>2599.0</td>\n",
       "      <td>1833.0</td>\n",
       "    </tr>\n",
       "    <tr>\n",
       "      <th>54</th>\n",
       "      <td>2021-04-03 16:00:00</td>\n",
       "      <td>76.0</td>\n",
       "      <td>95.0</td>\n",
       "      <td>169.0</td>\n",
       "      <td>152.0</td>\n",
       "      <td>132.0</td>\n",
       "      <td>166.0</td>\n",
       "      <td>68.0</td>\n",
       "      <td>38.0</td>\n",
       "      <td>21.0</td>\n",
       "      <td>...</td>\n",
       "      <td>111.0</td>\n",
       "      <td>1.0</td>\n",
       "      <td>1.0</td>\n",
       "      <td>3.0</td>\n",
       "      <td>12.0</td>\n",
       "      <td>3.0</td>\n",
       "      <td>5.0</td>\n",
       "      <td>-1483.0</td>\n",
       "      <td>1116.0</td>\n",
       "      <td>920.0</td>\n",
       "    </tr>\n",
       "    <tr>\n",
       "      <th>55</th>\n",
       "      <td>2021-04-04 16:00:00</td>\n",
       "      <td>83.0</td>\n",
       "      <td>122.0</td>\n",
       "      <td>194.0</td>\n",
       "      <td>173.0</td>\n",
       "      <td>183.0</td>\n",
       "      <td>205.0</td>\n",
       "      <td>92.0</td>\n",
       "      <td>48.0</td>\n",
       "      <td>28.0</td>\n",
       "      <td>...</td>\n",
       "      <td>178.0</td>\n",
       "      <td>0.0</td>\n",
       "      <td>6.0</td>\n",
       "      <td>0.0</td>\n",
       "      <td>-1.0</td>\n",
       "      <td>1.0</td>\n",
       "      <td>9.0</td>\n",
       "      <td>-114.0</td>\n",
       "      <td>1022.0</td>\n",
       "      <td>1132.0</td>\n",
       "    </tr>\n",
       "    <tr>\n",
       "      <th>56</th>\n",
       "      <td>2021-04-05 16:00:00</td>\n",
       "      <td>27.0</td>\n",
       "      <td>34.0</td>\n",
       "      <td>72.0</td>\n",
       "      <td>77.0</td>\n",
       "      <td>56.0</td>\n",
       "      <td>70.0</td>\n",
       "      <td>46.0</td>\n",
       "      <td>14.0</td>\n",
       "      <td>7.0</td>\n",
       "      <td>...</td>\n",
       "      <td>124.0</td>\n",
       "      <td>0.0</td>\n",
       "      <td>0.0</td>\n",
       "      <td>1.0</td>\n",
       "      <td>3.0</td>\n",
       "      <td>2.0</td>\n",
       "      <td>10.0</td>\n",
       "      <td>-272.0</td>\n",
       "      <td>730.0</td>\n",
       "      <td>403.0</td>\n",
       "    </tr>\n",
       "  </tbody>\n",
       "</table>\n",
       "<p>57 rows × 28 columns</p>\n",
       "</div>"
      ],
      "text/plain": [
       "             Timestamp    0-9  10-19  20-29  30-39  40-49  50-59  60-69  \\\n",
       "0  2021-02-08 16:00:00    NaN    NaN    NaN    NaN    NaN    NaN    NaN   \n",
       "1  2021-02-09 16:00:00    5.0   11.0   27.0   27.0   25.0   34.0   21.0   \n",
       "2  2021-02-10 16:00:00    5.0   10.0   13.0   -4.0    7.0   -8.0   -8.0   \n",
       "3  2021-02-11 16:00:00    5.0   14.0   21.0   21.0   30.0   26.0    7.0   \n",
       "4  2021-02-12 16:00:00   10.0   27.0   29.0   30.0   38.0   50.0   13.0   \n",
       "5  2021-02-13 16:00:00    7.0   17.0   25.0   25.0   25.0   39.0   12.0   \n",
       "6  2021-02-14 16:00:00    4.0    7.0   13.0   14.0    4.0    9.0   10.0   \n",
       "7  2021-02-15 16:00:00    3.0   10.0   24.0   20.0   22.0   15.0   12.0   \n",
       "8  2021-02-16 16:00:00    6.0   13.0   14.0   19.0   29.0   26.0   12.0   \n",
       "9  2021-02-17 16:00:00    7.0   17.0   26.0   32.0   32.0   34.0   17.0   \n",
       "10 2021-02-18 16:00:00   14.0   25.0   26.0   55.0   36.0   36.0   23.0   \n",
       "11 2021-02-19 16:00:00   20.0   18.0   33.0   42.0   32.0   40.0   14.0   \n",
       "12 2021-02-20 16:00:00   18.0   10.0   26.0   28.0   26.0   45.0   20.0   \n",
       "13 2021-02-21 16:00:00    4.0    6.0   17.0   19.0   12.0   19.0   40.0   \n",
       "14 2021-02-22 16:00:00   11.0   12.0   15.0   13.0    8.0   13.0  -24.0   \n",
       "15 2021-02-23 16:00:00   19.0   15.0   28.0   41.0   20.0   37.0   26.0   \n",
       "16 2021-02-24 16:00:00   21.0   18.0   50.0   33.0   45.0   38.0   19.0   \n",
       "17 2021-02-25 16:00:00   36.0   33.0   57.0   71.0   64.0   63.0   37.0   \n",
       "18 2021-02-26 16:00:00   19.0   26.0   60.0   54.0   51.0   63.0   23.0   \n",
       "19 2021-02-27 16:00:00   22.0   49.0   48.0   63.0   61.0   54.0   28.0   \n",
       "20 2021-02-28 16:00:00    5.0    7.0    2.0   10.0   18.0   18.0    6.0   \n",
       "21 2021-03-01 16:00:00   15.0   11.0   31.0   38.0   21.0   31.0   16.0   \n",
       "22 2021-03-02 16:00:00   36.0   23.0   29.0   49.0   52.0   95.0   20.0   \n",
       "23 2021-03-03 16:00:00   28.0   37.0   53.0   69.0   76.0   27.0   32.0   \n",
       "24 2021-03-04 16:00:00   45.0   52.0   82.0   75.0   82.0   93.0   50.0   \n",
       "25 2021-03-05 16:00:00   52.0   75.0  114.0  104.0  103.0  109.0   41.0   \n",
       "26 2021-03-06 16:00:00   47.0   67.0   65.0   78.0   73.0   67.0   45.0   \n",
       "27 2021-03-07 16:00:00   16.0   13.0   19.0   18.0   18.0   17.0    6.0   \n",
       "28 2021-03-08 16:00:00   22.0   37.0   48.0   70.0   70.0   63.0   45.0   \n",
       "29 2021-03-09 16:00:00   62.0   67.0   96.0   95.0   80.0  101.0   48.0   \n",
       "30 2021-03-10 16:00:00   32.0   63.0   85.0  102.0   97.0  108.0   51.0   \n",
       "31 2021-03-11 16:00:00   71.0   90.0  167.0  174.0  134.0  166.0   77.0   \n",
       "32 2021-03-12 16:00:00   61.0   52.0  143.0  132.0  110.0  121.0   61.0   \n",
       "33 2021-03-13 16:00:00   67.0   71.0  123.0  140.0  113.0  138.0   60.0   \n",
       "34 2021-03-14 16:00:00   29.0   28.0   52.0   57.0   51.0   60.0   32.0   \n",
       "35 2021-03-15 16:00:00   69.0   65.0   93.0   79.0   89.0   96.0   35.0   \n",
       "36 2021-03-16 16:00:00  113.0   93.0  158.0  150.0  145.0  121.0   78.0   \n",
       "37 2021-03-17 16:00:00   99.0  112.0  149.0  183.0  148.0  148.0   81.0   \n",
       "38 2021-03-18 16:00:00  133.0  165.0  252.0  254.0  238.0  239.0  143.0   \n",
       "39 2021-03-19 16:00:00  119.0  127.0  190.0  212.0  180.0  189.0   91.0   \n",
       "40 2021-03-20 16:00:00  109.0   99.0  187.0  172.0  182.0  163.0   88.0   \n",
       "41 2021-03-21 16:00:00   44.0   45.0   64.0   79.0   54.0   99.0   52.0   \n",
       "42 2021-03-22 16:00:00  102.0   99.0  158.0  167.0  120.0  163.0   76.0   \n",
       "43 2021-03-23 16:00:00  137.0  132.0  200.0  238.0  168.0  208.0  105.0   \n",
       "44 2021-03-24 16:00:00  126.0  143.0  233.0  224.0  239.0  244.0  125.0   \n",
       "45 2021-03-25 16:00:00  154.0  165.0  276.0  302.0  288.0  290.0  165.0   \n",
       "46 2021-03-26 16:00:00  172.0  177.0  250.0  286.0  269.0  296.0  155.0   \n",
       "47 2021-03-27 16:00:00  123.0  156.0  201.0  180.0  215.0  235.0  114.0   \n",
       "48 2021-03-28 16:00:00   48.0   63.0   69.0   73.0   57.0   80.0   47.0   \n",
       "49 2021-03-29 16:00:00  118.0  157.0  205.0  222.0  202.0  214.0  126.0   \n",
       "50 2021-03-30 16:00:00  120.0  185.0  239.0  251.0  235.0  244.0  127.0   \n",
       "51 2021-03-31 16:00:00  141.0  174.0  271.0  319.0  255.0  297.0  148.0   \n",
       "52 2021-04-01 16:00:00  164.0  229.0  313.0  331.0  333.0  347.0  186.0   \n",
       "53 2021-04-02 16:00:00  155.0  208.0  305.0  286.0  269.0  319.0  164.0   \n",
       "54 2021-04-03 16:00:00   76.0   95.0  169.0  152.0  132.0  166.0   68.0   \n",
       "55 2021-04-04 16:00:00   83.0  122.0  194.0  173.0  183.0  205.0   92.0   \n",
       "56 2021-04-05 16:00:00   27.0   34.0   72.0   77.0   56.0   70.0   46.0   \n",
       "\n",
       "    70-79  80-89  ...  nAusbrueche_KW53_2020_Varinten  \\\n",
       "0     NaN    NaN  ...                             NaN   \n",
       "1     7.0    4.0  ...                            77.0   \n",
       "2    -7.0  -15.0  ...                             4.0   \n",
       "3    10.0    4.0  ...                            72.0   \n",
       "4     3.0    4.0  ...                            65.0   \n",
       "5    10.0   10.0  ...                            48.0   \n",
       "6     0.0    0.0  ...                            17.0   \n",
       "7    10.0    5.0  ...                            38.0   \n",
       "8     4.0   10.0  ...                            79.0   \n",
       "9     5.0    6.0  ...                            74.0   \n",
       "10   11.0    7.0  ...                            75.0   \n",
       "11    1.0    7.0  ...                          -149.0   \n",
       "12    8.0    7.0  ...                           296.0   \n",
       "13    4.0    1.0  ...                            27.0   \n",
       "14    6.0    4.0  ...                            46.0   \n",
       "15    2.0   15.0  ...                            86.0   \n",
       "16   16.0   23.0  ...                           119.0   \n",
       "17   18.0   10.0  ...                           126.0   \n",
       "18   17.0   14.0  ...                           108.0   \n",
       "19    8.0   12.0  ...                            66.0   \n",
       "20    8.0    0.0  ...                            23.0   \n",
       "21   13.0    6.0  ...                            54.0   \n",
       "22    4.0  -11.0  ...                            37.0   \n",
       "23   15.0   13.0  ...                           181.0   \n",
       "24   27.0   14.0  ...                           151.0   \n",
       "25   22.0   15.0  ...                           197.0   \n",
       "26   11.0    9.0  ...                            89.0   \n",
       "27    2.0    1.0  ...                            59.0   \n",
       "28   18.0   22.0  ...                           129.0   \n",
       "29   20.0   13.0  ...                           183.0   \n",
       "30   19.0   10.0  ...                           171.0   \n",
       "31   38.0   22.0  ...                           274.0   \n",
       "32   16.0   13.0  ...                           234.0   \n",
       "33   24.0   12.0  ...                           131.0   \n",
       "34    9.0    6.0  ...                            61.0   \n",
       "35   21.0    8.0  ...                           206.0   \n",
       "36   33.0   13.0  ...                           247.0   \n",
       "37   29.0   22.0  ...                           259.0   \n",
       "38   69.0   37.0  ...                           315.0   \n",
       "39   42.0   20.0  ...                           258.0   \n",
       "40   29.0   17.0  ...                           164.0   \n",
       "41   20.0   14.0  ...                            91.0   \n",
       "42   29.0   19.0  ...                           270.0   \n",
       "43   55.0   34.0  ...                           344.0   \n",
       "44   52.0   28.0  ...                           406.0   \n",
       "45   55.0   36.0  ...                           394.0   \n",
       "46   78.0   33.0  ...                           376.0   \n",
       "47   43.0   25.0  ...                           211.0   \n",
       "48   20.0   11.0  ...                           149.0   \n",
       "49   55.0   35.0  ...                           254.0   \n",
       "50   58.0   39.0  ...                           363.0   \n",
       "51   77.0   35.0  ...                           319.0   \n",
       "52   71.0   40.0  ...                           380.0   \n",
       "53   68.0   47.0  ...                           251.0   \n",
       "54   38.0   21.0  ...                           111.0   \n",
       "55   48.0   28.0  ...                           178.0   \n",
       "56   14.0    7.0  ...                           124.0   \n",
       "\n",
       "    n_Ausbrueche_Pflegeheimen  nAusbrueche_Pflefeheimen_Varianten  \\\n",
       "0                         NaN                                 NaN   \n",
       "1                         2.0                                11.0   \n",
       "2                        -6.0                               -27.0   \n",
       "3                         1.0                                 5.0   \n",
       "4                         1.0                                 2.0   \n",
       "5                         2.0                                12.0   \n",
       "6                         0.0                                 0.0   \n",
       "7                         0.0                                 3.0   \n",
       "8                         1.0                                 4.0   \n",
       "9                         0.0                                15.0   \n",
       "10                        0.0                                 6.0   \n",
       "11                        0.0                               -21.0   \n",
       "12                        3.0                                29.0   \n",
       "13                        1.0                                 1.0   \n",
       "14                       -2.0                                -1.0   \n",
       "15                        1.0                                14.0   \n",
       "16                        2.0                                25.0   \n",
       "17                        2.0                                 5.0   \n",
       "18                        1.0                                 3.0   \n",
       "19                        0.0                                 1.0   \n",
       "20                        1.0                                 3.0   \n",
       "21                        1.0                                 3.0   \n",
       "22                       -5.0                               -32.0   \n",
       "23                       -1.0                                 2.0   \n",
       "24                        1.0                                 3.0   \n",
       "25                        1.0                                 9.0   \n",
       "26                        1.0                                 7.0   \n",
       "27                        0.0                                 0.0   \n",
       "28                        0.0                                 2.0   \n",
       "29                        0.0                                 4.0   \n",
       "30                        1.0                                 1.0   \n",
       "31                        1.0                                 4.0   \n",
       "32                        1.0                                 5.0   \n",
       "33                        1.0                                 1.0   \n",
       "34                        0.0                                 0.0   \n",
       "35                        0.0                                 0.0   \n",
       "36                        2.0                                 3.0   \n",
       "37                        3.0                                 7.0   \n",
       "38                        0.0                                10.0   \n",
       "39                        0.0                                 3.0   \n",
       "40                        1.0                                 6.0   \n",
       "41                        0.0                                 1.0   \n",
       "42                        3.0                                14.0   \n",
       "43                        1.0                                11.0   \n",
       "44                        1.0                                11.0   \n",
       "45                        1.0                                 5.0   \n",
       "46                        1.0                                13.0   \n",
       "47                        1.0                                 2.0   \n",
       "48                       -1.0                                 0.0   \n",
       "49                        0.0                                 5.0   \n",
       "50                        0.0                                 1.0   \n",
       "51                        2.0                                 7.0   \n",
       "52                        2.0                                 9.0   \n",
       "53                        2.0                                 7.0   \n",
       "54                        1.0                                 1.0   \n",
       "55                        0.0                                 6.0   \n",
       "56                        0.0                                 0.0   \n",
       "\n",
       "    n_Ausbrueche_Schulen  n_Ausbrueche_Schulen_Varianten  n_Ausbrueche_Kitas  \\\n",
       "0                    NaN                             NaN                 NaN   \n",
       "1                    0.0                             2.0                 2.0   \n",
       "2                    2.0                            12.0                -1.0   \n",
       "3                    0.0                            16.0                 0.0   \n",
       "4                    0.0                             1.0                 0.0   \n",
       "5                    0.0                             0.0                 0.0   \n",
       "6                    0.0                             0.0                 0.0   \n",
       "7                    0.0                             0.0                 1.0   \n",
       "8                    1.0                             7.0                 1.0   \n",
       "9                    0.0                             0.0                 0.0   \n",
       "10                   0.0                             2.0                 2.0   \n",
       "11                   0.0                            -2.0                -2.0   \n",
       "12                   1.0                             3.0                 4.0   \n",
       "13                   0.0                             1.0                 0.0   \n",
       "14                   0.0                             1.0                -1.0   \n",
       "15                  -1.0                             2.0                 2.0   \n",
       "16                   0.0                             0.0                 1.0   \n",
       "17                   0.0                             0.0                 2.0   \n",
       "18                   0.0                             1.0                 0.0   \n",
       "19                   0.0                             0.0                 2.0   \n",
       "20                   0.0                             1.0                 0.0   \n",
       "21                   1.0                             0.0                 0.0   \n",
       "22                   0.0                             0.0                -1.0   \n",
       "23                   0.0                             3.0                 1.0   \n",
       "24                   0.0                             0.0                 4.0   \n",
       "25                   1.0                             5.0                 2.0   \n",
       "26                   0.0                             0.0                 1.0   \n",
       "27                   0.0                             0.0                 0.0   \n",
       "28                   1.0                             1.0                 0.0   \n",
       "29                   1.0                             1.0                 3.0   \n",
       "30                   1.0                             7.0                 4.0   \n",
       "31                   0.0                             0.0                 9.0   \n",
       "32                   2.0                             5.0                 8.0   \n",
       "33                   1.0                             2.0                 4.0   \n",
       "34                   0.0                             0.0                 1.0   \n",
       "35                   0.0                             0.0                 7.0   \n",
       "36                   4.0                            10.0                 9.0   \n",
       "37                   1.0                             5.0                 4.0   \n",
       "38                   3.0                             9.0                12.0   \n",
       "39                   2.0                             3.0                 4.0   \n",
       "40                   1.0                             1.0                 0.0   \n",
       "41                   2.0                            10.0                 0.0   \n",
       "42                   1.0                             6.0                 2.0   \n",
       "43                   2.0                             8.0                 5.0   \n",
       "44                   3.0                             8.0                12.0   \n",
       "45                   8.0                            22.0                 6.0   \n",
       "46                   4.0                            14.0                 9.0   \n",
       "47                   2.0                             3.0                 3.0   \n",
       "48                   1.0                             3.0                 0.0   \n",
       "49                   8.0                            14.0                 4.0   \n",
       "50                   1.0                             5.0                 3.0   \n",
       "51                   1.0                             3.0                 4.0   \n",
       "52                   5.0                            20.0                 9.0   \n",
       "53                   0.0                             3.0                 2.0   \n",
       "54                   3.0                            12.0                 3.0   \n",
       "55                   0.0                            -1.0                 1.0   \n",
       "56                   1.0                             3.0                 2.0   \n",
       "\n",
       "    n_Ausbrueche_Kitas_Varianten  n_neue_Fälle_ges   n_ges  sum_agegroups  \n",
       "0                            NaN               NaN     NaN            NaN  \n",
       "1                            3.0             622.0  1013.0          165.0  \n",
       "2                           -2.0             215.0  1228.0          -14.0  \n",
       "3                            0.0            -305.0   923.0          138.0  \n",
       "4                            0.0            -103.0   820.0          205.0  \n",
       "5                            1.0             -41.0   779.0          172.0  \n",
       "6                            0.0            -408.0   371.0           62.0  \n",
       "7                            1.0            -149.0   222.0          123.0  \n",
       "8                            2.0             546.0   768.0          133.0  \n",
       "9                            0.0             145.0   913.0          185.0  \n",
       "10                           4.0              22.0   935.0          235.0  \n",
       "11                          -4.0              64.0   999.0          207.0  \n",
       "12                          19.0            -141.0   858.0          193.0  \n",
       "13                           0.0            -555.0   303.0          123.0  \n",
       "14                           1.0              84.0   387.0           59.0  \n",
       "15                          24.0             505.0   892.0          208.0  \n",
       "16                          11.0            -773.0  1119.0          269.0  \n",
       "17                          16.0             990.0  1109.0          392.0  \n",
       "18                           7.0            -162.0   947.0          328.0  \n",
       "19                           6.0              40.0   987.0          347.0  \n",
       "20                           0.0            -504.0   483.0           74.0  \n",
       "21                           0.0             -85.0   398.0          183.0  \n",
       "22                           7.0             687.0  1085.0          283.0  \n",
       "23                           8.0             300.0  1385.0          354.0  \n",
       "24                          10.0            -109.0  1276.0          520.0  \n",
       "25                          12.0            -206.0  1070.0          638.0  \n",
       "26                           7.0             139.0  1209.0          473.0  \n",
       "27                           0.0            -723.0   486.0          111.0  \n",
       "28                          15.0             -72.0   414.0          400.0  \n",
       "29                          36.0             925.0  1339.0          590.0  \n",
       "30                          15.0             144.0  1483.0          572.0  \n",
       "31                          41.0              60.0  1543.0          943.0  \n",
       "32                          52.0             -24.0  1519.0          714.0  \n",
       "33                          38.0              56.0  1575.0          752.0  \n",
       "34                           9.0            -916.0   659.0          324.0  \n",
       "35                          43.0            -222.0   437.0          559.0  \n",
       "36                          78.0            1526.0  1963.0          907.0  \n",
       "37                          44.0             165.0  2128.0          978.0  \n",
       "38                          76.0            -129.0  1999.0         1537.0  \n",
       "39                          65.0             -67.0  1932.0         1177.0  \n",
       "40                          25.0             340.0  2272.0         1049.0  \n",
       "41                          14.0           -1368.0   904.0          473.0  \n",
       "42                          56.0            -222.0   682.0          945.0  \n",
       "43                          39.0            1303.0  1985.0         1284.0  \n",
       "44                          69.0             954.0  2939.0         1417.0  \n",
       "45                          57.0            -218.0  2721.0         1743.0  \n",
       "46                          66.0            -124.0  2597.0         1720.0  \n",
       "47                          21.0            -448.0  2149.0         1295.0  \n",
       "48                           1.0            -808.0  1341.0          469.0  \n",
       "49                          42.0            -168.0  1173.0         1346.0  \n",
       "50                          28.0             803.0  1976.0         1505.0  \n",
       "51                          16.0            1350.0  3326.0         1726.0  \n",
       "52                          61.0            -606.0  2720.0         2022.0  \n",
       "53                          17.0            -121.0  2599.0         1833.0  \n",
       "54                           5.0           -1483.0  1116.0          920.0  \n",
       "55                           9.0            -114.0  1022.0         1132.0  \n",
       "56                          10.0            -272.0   730.0          403.0  \n",
       "\n",
       "[57 rows x 28 columns]"
      ]
     },
     "execution_count": 12,
     "metadata": {},
     "output_type": "execute_result"
    }
   ],
   "source": [
    "Δdata"
   ]
  },
  {
   "cell_type": "markdown",
   "metadata": {},
   "source": [
    "# Plotting\n",
    "\n",
    "## for each timestep"
   ]
  },
  {
   "cell_type": "code",
   "execution_count": 13,
   "metadata": {},
   "outputs": [
    {
     "name": "stdout",
     "output_type": "stream",
     "text": [
      "0\n"
     ]
    },
    {
     "data": {
      "image/png": "[encoded data removed]",
      "text/plain": [
       "<Figure size 432x288 with 1 Axes>"
      ]
     },
     "metadata": {
      "needs_background": "light"
     },
     "output_type": "display_data"
    },
    {
     "name": "stdout",
     "output_type": "stream",
     "text": [
      "1\n"
     ]
    },
    {
     "data": {
      "image/png": "[encoded data removed]",
      "text/plain": [
       "<Figure size 432x288 with 1 Axes>"
      ]
     },
     "metadata": {
      "needs_background": "light"
     },
     "output_type": "display_data"
    },
    {
     "name": "stdout",
     "output_type": "stream",
     "text": [
      "2\n"
     ]
    },
    {
     "data": {
      "image/png": "[encoded data removed]",
      "text/plain": [
       "<Figure size 432x288 with 1 Axes>"
      ]
     },
     "metadata": {
      "needs_background": "light"
     },
     "output_type": "display_data"
    },
    {
     "name": "stdout",
     "output_type": "stream",
     "text": [
      "3\n"
     ]
    },
    {
     "data": {
      "image/png": "[encoded data removed]",
      "text/plain": [
       "<Figure size 432x288 with 1 Axes>"
      ]
     },
     "metadata": {
      "needs_background": "light"
     },
     "output_type": "display_data"
    },
    {
     "name": "stdout",
     "output_type": "stream",
     "text": [
      "4\n"
     ]
    },
    {
     "data": {
      "image/png": "[encoded data removed]",
      "text/plain": [
       "<Figure size 432x288 with 1 Axes>"
      ]
     },
     "metadata": {
      "needs_background": "light"
     },
     "output_type": "display_data"
    },
    {
     "name": "stdout",
     "output_type": "stream",
     "text": [
      "5\n"
     ]
    },
    {
     "data": {
      "image/png": "[encoded data removed]",
      "text/plain": [
       "<Figure size 432x288 with 1 Axes>"
      ]
     },
     "metadata": {
      "needs_background": "light"
     },
     "output_type": "display_data"
    },
    {
     "name": "stdout",
     "output_type": "stream",
     "text": [
      "6\n"
     ]
    },
    {
     "data": {
      "image/png": "[encoded data removed]",
      "text/plain": [
       "<Figure size 432x288 with 1 Axes>"
      ]
     },
     "metadata": {
      "needs_background": "light"
     },
     "output_type": "display_data"
    },
    {
     "name": "stdout",
     "output_type": "stream",
     "text": [
      "7\n"
     ]
    },
    {
     "data": {
      "image/png": "[encoded data removed]",
      "text/plain": [
       "<Figure size 432x288 with 1 Axes>"
      ]
     },
     "metadata": {
      "needs_background": "light"
     },
     "output_type": "display_data"
    },
    {
     "name": "stdout",
     "output_type": "stream",
     "text": [
      "8\n"
     ]
    },
    {
     "data": {
      "image/png": "[encoded data removed]",
      "text/plain": [
       "<Figure size 432x288 with 1 Axes>"
      ]
     },
     "metadata": {
      "needs_background": "light"
     },
     "output_type": "display_data"
    },
    {
     "name": "stdout",
     "output_type": "stream",
     "text": [
      "9\n"
     ]
    },
    {
     "data": {
      "image/png": "[encoded data removed]",
      "text/plain": [
       "<Figure size 432x288 with 1 Axes>"
      ]
     },
     "metadata": {
      "needs_background": "light"
     },
     "output_type": "display_data"
    },
    {
     "name": "stdout",
     "output_type": "stream",
     "text": [
      "10\n"
     ]
    },
    {
     "data": {
      "image/png": "[encoded data removed]",
      "text/plain": [
       "<Figure size 432x288 with 1 Axes>"
      ]
     },
     "metadata": {
      "needs_background": "light"
     },
     "output_type": "display_data"
    },
    {
     "name": "stdout",
     "output_type": "stream",
     "text": [
      "11\n"
     ]
    },
    {
     "data": {
      "image/png": "[encoded data removed]",
      "text/plain": [
       "<Figure size 432x288 with 1 Axes>"
      ]
     },
     "metadata": {
      "needs_background": "light"
     },
     "output_type": "display_data"
    },
    {
     "name": "stdout",
     "output_type": "stream",
     "text": [
      "12\n"
     ]
    },
    {
     "data": {
      "image/png": "[encoded data removed]",
      "text/plain": [
       "<Figure size 432x288 with 1 Axes>"
      ]
     },
     "metadata": {
      "needs_background": "light"
     },
     "output_type": "display_data"
    },
    {
     "name": "stdout",
     "output_type": "stream",
     "text": [
      "13\n"
     ]
    },
    {
     "data": {
      "image/png": "[encoded data removed]",
      "text/plain": [
       "<Figure size 432x288 with 1 Axes>"
      ]
     },
     "metadata": {
      "needs_background": "light"
     },
     "output_type": "display_data"
    },
    {
     "name": "stdout",
     "output_type": "stream",
     "text": [
      "14\n"
     ]
    },
    {
     "data": {
      "image/png": "[encoded data removed]",
      "text/plain": [
       "<Figure size 432x288 with 1 Axes>"
      ]
     },
     "metadata": {
      "needs_background": "light"
     },
     "output_type": "display_data"
    },
    {
     "name": "stdout",
     "output_type": "stream",
     "text": [
      "15\n"
     ]
    },
    {
     "data": {
      "image/png": "[encoded data removed]",
      "text/plain": [
       "<Figure size 432x288 with 1 Axes>"
      ]
     },
     "metadata": {
      "needs_background": "light"
     },
     "output_type": "display_data"
    },
    {
     "name": "stdout",
     "output_type": "stream",
     "text": [
      "16\n"
     ]
    },
    {
     "data": {
      "image/png": "[encoded data removed]",
      "text/plain": [
       "<Figure size 432x288 with 1 Axes>"
      ]
     },
     "metadata": {
      "needs_background": "light"
     },
     "output_type": "display_data"
    },
    {
     "name": "stdout",
     "output_type": "stream",
     "text": [
      "17\n"
     ]
    },
    {
     "data": {
      "image/png": "[encoded data removed]",
      "text/plain": [
       "<Figure size 432x288 with 1 Axes>"
      ]
     },
     "metadata": {
      "needs_background": "light"
     },
     "output_type": "display_data"
    },
    {
     "name": "stdout",
     "output_type": "stream",
     "text": [
      "18\n"
     ]
    },
    {
     "data": {
      "image/png": "[encoded data removed]",
      "text/plain": [
       "<Figure size 432x288 with 1 Axes>"
      ]
     },
     "metadata": {
      "needs_background": "light"
     },
     "output_type": "display_data"
    },
    {
     "name": "stdout",
     "output_type": "stream",
     "text": [
      "19\n"
     ]
    },
    {
     "data": {
      "image/png": "[encoded data removed]",
      "text/plain": [
       "<Figure size 432x288 with 1 Axes>"
      ]
     },
     "metadata": {
      "needs_background": "light"
     },
     "output_type": "display_data"
    },
    {
     "name": "stdout",
     "output_type": "stream",
     "text": [
      "20\n"
     ]
    },
    {
     "data": {
      "image/png": "[encoded data removed]",
      "text/plain": [
       "<Figure size 432x288 with 1 Axes>"
      ]
     },
     "metadata": {
      "needs_background": "light"
     },
     "output_type": "display_data"
    },
    {
     "name": "stdout",
     "output_type": "stream",
     "text": [
      "21\n"
     ]
    },
    {
     "data": {
      "image/png": "[encoded data removed]",
      "text/plain": [
       "<Figure size 432x288 with 1 Axes>"
      ]
     },
     "metadata": {
      "needs_background": "light"
     },
     "output_type": "display_data"
    },
    {
     "name": "stdout",
     "output_type": "stream",
     "text": [
      "22\n"
     ]
    },
    {
     "data": {
      "image/png": "[encoded data removed]",
      "text/plain": [
       "<Figure size 432x288 with 1 Axes>"
      ]
     },
     "metadata": {
      "needs_background": "light"
     },
     "output_type": "display_data"
    },
    {
     "name": "stdout",
     "output_type": "stream",
     "text": [
      "23\n"
     ]
    },
    {
     "data": {
      "image/png": "[encoded data removed]",
      "text/plain": [
       "<Figure size 432x288 with 1 Axes>"
      ]
     },
     "metadata": {
      "needs_background": "light"
     },
     "output_type": "display_data"
    },
    {
     "name": "stdout",
     "output_type": "stream",
     "text": [
      "24\n"
     ]
    },
    {
     "data": {
      "image/png": "[encoded data removed]",
      "text/plain": [
       "<Figure size 432x288 with 1 Axes>"
      ]
     },
     "metadata": {
      "needs_background": "light"
     },
     "output_type": "display_data"
    },
    {
     "name": "stdout",
     "output_type": "stream",
     "text": [
      "25\n"
     ]
    },
    {
     "data": {
      "image/png": "[encoded data removed]",
      "text/plain": [
       "<Figure size 432x288 with 1 Axes>"
      ]
     },
     "metadata": {
      "needs_background": "light"
     },
     "output_type": "display_data"
    },
    {
     "name": "stdout",
     "output_type": "stream",
     "text": [
      "26\n"
     ]
    },
    {
     "data": {
      "image/png": "[encoded data removed]",
      "text/plain": [
       "<Figure size 432x288 with 1 Axes>"
      ]
     },
     "metadata": {
      "needs_background": "light"
     },
     "output_type": "display_data"
    },
    {
     "name": "stdout",
     "output_type": "stream",
     "text": [
      "27\n"
     ]
    },
    {
     "data": {
      "image/png": "[encoded data removed]",
      "text/plain": [
       "<Figure size 432x288 with 1 Axes>"
      ]
     },
     "metadata": {
      "needs_background": "light"
     },
     "output_type": "display_data"
    },
    {
     "name": "stdout",
     "output_type": "stream",
     "text": [
      "28\n"
     ]
    },
    {
     "data": {
      "image/png": "[encoded data removed]",
      "text/plain": [
       "<Figure size 432x288 with 1 Axes>"
      ]
     },
     "metadata": {
      "needs_background": "light"
     },
     "output_type": "display_data"
    },
    {
     "name": "stdout",
     "output_type": "stream",
     "text": [
      "29\n"
     ]
    },
    {
     "data": {
      "image/png": "[encoded data removed]",
      "text/plain": [
       "<Figure size 432x288 with 1 Axes>"
      ]
     },
     "metadata": {
      "needs_background": "light"
     },
     "output_type": "display_data"
    },
    {
     "name": "stdout",
     "output_type": "stream",
     "text": [
      "30\n"
     ]
    },
    {
     "data": {
      "image/png": "[encoded data removed]",
      "text/plain": [
       "<Figure size 432x288 with 1 Axes>"
      ]
     },
     "metadata": {
      "needs_background": "light"
     },
     "output_type": "display_data"
    },
    {
     "name": "stdout",
     "output_type": "stream",
     "text": [
      "31\n"
     ]
    },
    {
     "data": {
      "image/png": "[encoded data removed]",
      "text/plain": [
       "<Figure size 432x288 with 1 Axes>"
      ]
     },
     "metadata": {
      "needs_background": "light"
     },
     "output_type": "display_data"
    },
    {
     "name": "stdout",
     "output_type": "stream",
     "text": [
      "32\n"
     ]
    },
    {
     "data": {
      "image/png": "[encoded data removed]",
      "text/plain": [
       "<Figure size 432x288 with 1 Axes>"
      ]
     },
     "metadata": {
      "needs_background": "light"
     },
     "output_type": "display_data"
    },
    {
     "name": "stdout",
     "output_type": "stream",
     "text": [
      "33\n"
     ]
    },
    {
     "data": {
      "image/png": "[encoded data removed]",
      "text/plain": [
       "<Figure size 432x288 with 1 Axes>"
      ]
     },
     "metadata": {
      "needs_background": "light"
     },
     "output_type": "display_data"
    },
    {
     "name": "stdout",
     "output_type": "stream",
     "text": [
      "34\n"
     ]
    },
    {
     "data": {
      "image/png": "[encoded data removed]",
      "text/plain": [
       "<Figure size 432x288 with 1 Axes>"
      ]
     },
     "metadata": {
      "needs_background": "light"
     },
     "output_type": "display_data"
    },
    {
     "name": "stdout",
     "output_type": "stream",
     "text": [
      "35\n"
     ]
    },
    {
     "data": {
      "image/png": "[encoded data removed]",
      "text/plain": [
       "<Figure size 432x288 with 1 Axes>"
      ]
     },
     "metadata": {
      "needs_background": "light"
     },
     "output_type": "display_data"
    },
    {
     "name": "stdout",
     "output_type": "stream",
     "text": [
      "36\n"
     ]
    },
    {
     "data": {
      "image/png": "[encoded data removed]",
      "text/plain": [
       "<Figure size 432x288 with 1 Axes>"
      ]
     },
     "metadata": {
      "needs_background": "light"
     },
     "output_type": "display_data"
    },
    {
     "name": "stdout",
     "output_type": "stream",
     "text": [
      "37\n"
     ]
    },
    {
     "data": {
      "image/png": "[encoded data removed]",
      "text/plain": [
       "<Figure size 432x288 with 1 Axes>"
      ]
     },
     "metadata": {
      "needs_background": "light"
     },
     "output_type": "display_data"
    },
    {
     "name": "stdout",
     "output_type": "stream",
     "text": [
      "38\n"
     ]
    },
    {
     "data": {
      "image/png": "[encoded data removed]",
      "text/plain": [
       "<Figure size 432x288 with 1 Axes>"
      ]
     },
     "metadata": {
      "needs_background": "light"
     },
     "output_type": "display_data"
    },
    {
     "name": "stdout",
     "output_type": "stream",
     "text": [
      "39\n"
     ]
    },
    {
     "data": {
      "image/png": "[encoded data removed]",
      "text/plain": [
       "<Figure size 432x288 with 1 Axes>"
      ]
     },
     "metadata": {
      "needs_background": "light"
     },
     "output_type": "display_data"
    },
    {
     "name": "stdout",
     "output_type": "stream",
     "text": [
      "40\n"
     ]
    },
    {
     "data": {
      "image/png": "[encoded data removed]",
      "text/plain": [
       "<Figure size 432x288 with 1 Axes>"
      ]
     },
     "metadata": {
      "needs_background": "light"
     },
     "output_type": "display_data"
    },
    {
     "name": "stdout",
     "output_type": "stream",
     "text": [
      "41\n"
     ]
    },
    {
     "data": {
      "image/png": "[encoded data removed]",
      "text/plain": [
       "<Figure size 432x288 with 1 Axes>"
      ]
     },
     "metadata": {
      "needs_background": "light"
     },
     "output_type": "display_data"
    },
    {
     "name": "stdout",
     "output_type": "stream",
     "text": [
      "42\n"
     ]
    },
    {
     "data": {
      "image/png": "[encoded data removed]",
      "text/plain": [
       "<Figure size 432x288 with 1 Axes>"
      ]
     },
     "metadata": {
      "needs_background": "light"
     },
     "output_type": "display_data"
    },
    {
     "name": "stdout",
     "output_type": "stream",
     "text": [
      "43\n"
     ]
    },
    {
     "data": {
      "image/png": "[encoded data removed]",
      "text/plain": [
       "<Figure size 432x288 with 1 Axes>"
      ]
     },
     "metadata": {
      "needs_background": "light"
     },
     "output_type": "display_data"
    },
    {
     "name": "stdout",
     "output_type": "stream",
     "text": [
      "44\n"
     ]
    },
    {
     "data": {
      "image/png": "[encoded data removed]",
      "text/plain": [
       "<Figure size 432x288 with 1 Axes>"
      ]
     },
     "metadata": {
      "needs_background": "light"
     },
     "output_type": "display_data"
    },
    {
     "name": "stdout",
     "output_type": "stream",
     "text": [
      "45\n"
     ]
    },
    {
     "data": {
      "image/png": "[encoded data removed]",
      "text/plain": [
       "<Figure size 432x288 with 1 Axes>"
      ]
     },
     "metadata": {
      "needs_background": "light"
     },
     "output_type": "display_data"
    },
    {
     "name": "stdout",
     "output_type": "stream",
     "text": [
      "46\n"
     ]
    },
    {
     "data": {
      "image/png": "[encoded data removed]",
      "text/plain": [
       "<Figure size 432x288 with 1 Axes>"
      ]
     },
     "metadata": {
      "needs_background": "light"
     },
     "output_type": "display_data"
    },
    {
     "name": "stdout",
     "output_type": "stream",
     "text": [
      "47\n"
     ]
    },
    {
     "data": {
      "image/png": "[encoded data removed]",
      "text/plain": [
       "<Figure size 432x288 with 1 Axes>"
      ]
     },
     "metadata": {
      "needs_background": "light"
     },
     "output_type": "display_data"
    },
    {
     "name": "stdout",
     "output_type": "stream",
     "text": [
      "48\n"
     ]
    },
    {
     "data": {
      "image/png": "[encoded data removed]",
      "text/plain": [
       "<Figure size 432x288 with 1 Axes>"
      ]
     },
     "metadata": {
      "needs_background": "light"
     },
     "output_type": "display_data"
    },
    {
     "name": "stdout",
     "output_type": "stream",
     "text": [
      "49\n"
     ]
    },
    {
     "data": {
      "image/png": "[encoded data removed]",
      "text/plain": [
       "<Figure size 432x288 with 1 Axes>"
      ]
     },
     "metadata": {
      "needs_background": "light"
     },
     "output_type": "display_data"
    },
    {
     "name": "stdout",
     "output_type": "stream",
     "text": [
      "50\n"
     ]
    },
    {
     "data": {
      "image/png": "[encoded data removed]",
      "text/plain": [
       "<Figure size 432x288 with 1 Axes>"
      ]
     },
     "metadata": {
      "needs_background": "light"
     },
     "output_type": "display_data"
    },
    {
     "name": "stdout",
     "output_type": "stream",
     "text": [
      "51\n"
     ]
    },
    {
     "data": {
      "image/png": "[encoded data removed]",
      "text/plain": [
       "<Figure size 432x288 with 1 Axes>"
      ]
     },
     "metadata": {
      "needs_background": "light"
     },
     "output_type": "display_data"
    },
    {
     "name": "stdout",
     "output_type": "stream",
     "text": [
      "52\n"
     ]
    },
    {
     "data": {
      "image/png": "[encoded data removed]",
      "text/plain": [
       "<Figure size 432x288 with 1 Axes>"
      ]
     },
     "metadata": {
      "needs_background": "light"
     },
     "output_type": "display_data"
    },
    {
     "name": "stdout",
     "output_type": "stream",
     "text": [
      "53\n"
     ]
    },
    {
     "data": {
      "image/png": "[encoded data removed]",
      "text/plain": [
       "<Figure size 432x288 with 1 Axes>"
      ]
     },
     "metadata": {
      "needs_background": "light"
     },
     "output_type": "display_data"
    },
    {
     "name": "stdout",
     "output_type": "stream",
     "text": [
      "54\n"
     ]
    },
    {
     "data": {
      "image/png": "[encoded data removed]",
      "text/plain": [
       "<Figure size 432x288 with 1 Axes>"
      ]
     },
     "metadata": {
      "needs_background": "light"
     },
     "output_type": "display_data"
    },
    {
     "name": "stdout",
     "output_type": "stream",
     "text": [
      "55\n"
     ]
    },
    {
     "data": {
      "image/png": "[encoded data removed]",
      "text/plain": [
       "<Figure size 432x288 with 1 Axes>"
      ]
     },
     "metadata": {
      "needs_background": "light"
     },
     "output_type": "display_data"
    },
    {
     "name": "stdout",
     "output_type": "stream",
     "text": [
      "56\n"
     ]
    },
    {
     "data": {
      "image/png": "[encoded data removed]",
      "text/plain": [
       "<Figure size 432x288 with 1 Axes>"
      ]
     },
     "metadata": {
      "needs_background": "light"
     },
     "output_type": "display_data"
    }
   ],
   "source": [
    "for i in range(data.index[-1]+1):\n",
    "    print(i)\n",
    "    cur_height = np.array(data.loc[i][age_groups])\n",
    "    plt.bar(age_groups, \n",
    "            height=cur_height,\n",
    "           zorder=999)\n",
    "    plt.grid(True)\n",
    "    plt.xlabel('age group')\n",
    "    plt.ylim(0.,Y_MAX)\n",
    "    plt.title(str(data.loc[i][0]) + f\" ∑={data['sum_agegroups'][i]}\")\n",
    "    plt.show()\n",
    "    plt.close()"
   ]
  },
  {
   "cell_type": "markdown",
   "metadata": {},
   "source": [
    "Plot des Zuwachses"
   ]
  },
  {
   "cell_type": "code",
   "execution_count": null,
   "metadata": {},
   "outputs": [
    {
     "data": {
      "image/png": "[encoded data removed]",
      "text/plain": [
       "<Figure size 432x288 with 1 Axes>"
      ]
     },
     "metadata": {
      "needs_background": "light"
     },
     "output_type": "display_data"
    },
    {
     "data": {
      "image/png": "[encoded data removed]",
      "text/plain": [
       "<Figure size 432x288 with 1 Axes>"
      ]
     },
     "metadata": {
      "needs_background": "light"
     },
     "output_type": "display_data"
    },
    {
     "data": {
      "image/png": "[encoded data removed]",
      "text/plain": [
       "<Figure size 432x288 with 1 Axes>"
      ]
     },
     "metadata": {
      "needs_background": "light"
     },
     "output_type": "display_data"
    }
   ],
   "source": [
    "for i in np.arange(start=1, stop=data.index[-1]+1):\n",
    "    # print(i)\n",
    "    cur_height = np.array(data.loc[i][age_groups])\n",
    "    # print(cur_height)\n",
    "    prev_height = np.array(data.loc[i-1][age_groups])\n",
    "    # print(prev_height)\n",
    "    Δ = cur_height - prev_height\n",
    "    # print(bottom)\n",
    "    sum_delta = Δ.sum()\n",
    "\n",
    "    \n",
    "    # plot current height\n",
    "#     plt.bar(age_groups, \n",
    "#             height=cur_height,\n",
    "#            zorder=995)\n",
    "    # plot change since last time\n",
    "    plt.bar(age_groups, \n",
    "            height=Δ,\n",
    "            bottom=0,\n",
    "            color='red',\n",
    "           zorder=998,\n",
    "           label=f\"Δ since yesterday,  ∑Δ={Δ.sum()}\")\n",
    "    plt.hlines(0,0,10,  colors='k', zorder=999)\n",
    "    plt.grid(True)\n",
    "    plt.xlabel('age group')\n",
    "    plt.ylim(-10.,300) # Y_MAX\n",
    "    plt.title(data.loc[i][0])\n",
    "    plt.legend(loc='best')\n",
    "    plt.show()\n",
    "    plt.close()"
   ]
  },
  {
   "cell_type": "markdown",
   "metadata": {},
   "source": [
    "## Evolution over Time"
   ]
  },
  {
   "cell_type": "code",
   "execution_count": null,
   "metadata": {},
   "outputs": [],
   "source": [
    "#data"
   ]
  },
  {
   "cell_type": "code",
   "execution_count": null,
   "metadata": {},
   "outputs": [],
   "source": [
    "fig, ax = plt.subplots(nrows=2, ncols=1, sharex=True, figsize=(8,12))\n",
    "\n",
    "cur_cm = cm.terrain\n",
    "d = np.linspace(0.1, 0.95, len(age_groups))\n",
    "\n",
    "\n",
    "for cur_ix, cur_age in enumerate(age_groups):\n",
    "    age_plot = ax[0].plot(data[\"Timestamp\"],\n",
    "                          data[cur_age],\n",
    "                          \"o-\",\n",
    "                          label=cur_age,\n",
    "                          color=cur_cm(d[cur_ix])\n",
    "                          )\n",
    "\n",
    "ax[0].legend(bbox_to_anchor=(1,1), loc=\"upper left\")\n",
    "ax[0].grid(True)\n",
    "ax[0].title.set_text(\"distribution in age groups\")\n",
    "\n",
    "# plot the sum\n",
    "ax[1].plot(data[\"Timestamp\"],\n",
    "          data[\"sum_agegroups\"],\n",
    "          \"o-\",)\n",
    "ax[1].grid(True)\n",
    "ax[1].title.set_text(\"sum\")\n",
    "fig.autofmt_xdate(rotation=90)"
   ]
  },
  {
   "cell_type": "markdown",
   "metadata": {},
   "source": [
    "### Inzidenz Relative to Age Distribution\n",
    "\n",
    "a value of unity indicates that the percentage of people infected in that age group is equal to the percentage of living people in that age group"
   ]
  },
  {
   "cell_type": "code",
   "execution_count": null,
   "metadata": {},
   "outputs": [],
   "source": [
    "# load population data\n",
    "grouped_age_distributions= pd.read_csv('./data/grouped_age_distributions_bw.csv')\n",
    "grouped_age_distributions_std = grouped_age_distributions[\"2019_n\"] /   grouped_age_distributions[\"2019_n\"].sum()"
   ]
  },
  {
   "cell_type": "code",
   "execution_count": null,
   "metadata": {},
   "outputs": [],
   "source": [
    "fig, ax = plt.subplots(nrows=1, ncols=1)\n",
    "\n",
    "cur_cm = cm.terrain\n",
    "d = np.linspace(0.1, 0.95, len(age_groups))\n",
    "\n",
    "\n",
    "for cur_ix, cur_age in enumerate(age_groups):\n",
    "    \n",
    "    cur_faelle_std = data[cur_age] / data[\"Faelle\"]\n",
    "    cur_rel_age_dist = cur_faelle_std / grouped_age_distributions_std[cur_ix]\n",
    "    \n",
    "    age_plot = ax.plot(data[\"Timestamp\"],\n",
    "                          cur_rel_age_dist,\n",
    "                          \"o-\",\n",
    "                          label=cur_age,\n",
    "                          color=cur_cm(d[cur_ix])\n",
    "                          )\n",
    "ax.hlines(1.0,\n",
    "          data[\"Timestamp\"][:1], \n",
    "          data[\"Timestamp\"][-1:],\n",
    "         color='red')\n",
    "ax.legend(bbox_to_anchor=(1,1), loc=\"upper left\")\n",
    "ax.grid(True)\n",
    "ax.title.set_text(\"distribution of cases relative to population in age groups\")\n",
    "fig.autofmt_xdate(rotation=90)\n",
    "plt.tight_layout()\n",
    "plt.savefig('inzidenz_rel_age_dist.png', dpi=200)\n"
   ]
  },
  {
   "cell_type": "markdown",
   "metadata": {},
   "source": [
    "### Anstieg der Fälle pro Tag"
   ]
  },
  {
   "cell_type": "code",
   "execution_count": null,
   "metadata": {},
   "outputs": [],
   "source": [
    "fig, ax = plt.subplots(nrows=2, ncols=1, sharex=True, figsize=(8,12))\n",
    "\n",
    "cur_cm = cm.terrain\n",
    "d = np.linspace(0.1, 0.95, len(age_groups))\n",
    "\n",
    "for cur_ix, cur_age in enumerate(age_groups):\n",
    "    age_plot = ax[0].plot(Δdata[\"Timestamp\"],\n",
    "                          Δdata[cur_age],\n",
    "                          \"o-\",\n",
    "                          label=cur_age,\n",
    "                          color=cur_cm(d[cur_ix])\n",
    "                          )\n",
    "ax[0].set_facecolor(\"dimgrey\") \n",
    "ax[0].legend(bbox_to_anchor=(1,1), loc=\"upper left\", facecolor=\"dimgrey\")\n",
    "ax[0].grid(True)\n",
    "ax[0].title.set_text(\"evolution of Δ per day in age groups\")\n",
    "\n",
    "# plot the sum\n",
    "ax[1].plot(Δdata[\"Timestamp\"],\n",
    "          Δdata[\"sum_agegroups\"],\n",
    "          \"o-\",)\n",
    "ax[1].grid(True)\n",
    "ax[1].title.set_text(\"evolution of Δsum per day\")\n",
    "fig.autofmt_xdate(rotation=90)"
   ]
  },
  {
   "cell_type": "markdown",
   "metadata": {},
   "source": [
    "## Pflegeheime, Schulen, Kitas"
   ]
  },
  {
   "cell_type": "markdown",
   "metadata": {},
   "source": [
    "'Timestamp', \n",
    "'0-9', '10-19', '20-29', '30-39', '40-49', '50-59', '60-69', '70-79', '80-89', '90', \n",
    "'Faelle', 'nLKs',\n",
    "'Faelle_Varianten_Typ', 'B117', 'B1351', \n",
    "'nAusbrueche_KW53_2020', 'nAusbrueche_KW53_2020_Varinten', \n",
    "'n_Ausbrueche_Pflegeheimen', 'nAusbrueche_Pflefeheimen_Varianten', \n",
    "'n_Ausbrueche_Schulen', 'n_Ausbrueche_Schulen_Varianten', \n",
    "'n_Ausbrueche_Kitas', 'n_Ausbrueche_Kitas_Varianten'],"
   ]
  },
  {
   "cell_type": "code",
   "execution_count": null,
   "metadata": {},
   "outputs": [],
   "source": [
    "import importlib\n",
    "importlib.reload(cvh)"
   ]
  },
  {
   "cell_type": "code",
   "execution_count": null,
   "metadata": {},
   "outputs": [],
   "source": [
    "cvh.plot_pflege_schule_kitas(data)"
   ]
  },
  {
   "cell_type": "code",
   "execution_count": null,
   "metadata": {},
   "outputs": [],
   "source": [
    "cvh.plot_pflege_schule_kitas(Δdata, flag=\"Δ\")"
   ]
  },
  {
   "cell_type": "code",
   "execution_count": null,
   "metadata": {},
   "outputs": [],
   "source": []
  },
  {
   "cell_type": "code",
   "execution_count": null,
   "metadata": {},
   "outputs": [],
   "source": []
  },
  {
   "cell_type": "markdown",
   "metadata": {},
   "source": [
    "read from PDF"
   ]
  },
  {
   "cell_type": "code",
   "execution_count": null,
   "metadata": {},
   "outputs": [],
   "source": [
    "pdfobject=open('210208_COVID_Tagesbericht_LGA.pdf','rb')"
   ]
  },
  {
   "cell_type": "code",
   "execution_count": null,
   "metadata": {},
   "outputs": [],
   "source": [
    "pdf=pypdf.PdfFileReader(pdfobject)"
   ]
  },
  {
   "cell_type": "code",
   "execution_count": null,
   "metadata": {},
   "outputs": [],
   "source": [
    "pdf.pages"
   ]
  },
  {
   "cell_type": "code",
   "execution_count": null,
   "metadata": {},
   "outputs": [],
   "source": [
    "tables = camelot.read_pdf('210208_COVID_Tagesbericht_LGA.pdf')"
   ]
  },
  {
   "cell_type": "code",
   "execution_count": null,
   "metadata": {},
   "outputs": [],
   "source": [
    "!gs"
   ]
  },
  {
   "cell_type": "code",
   "execution_count": null,
   "metadata": {},
   "outputs": [],
   "source": [
    "import datetime"
   ]
  },
  {
   "cell_type": "code",
   "execution_count": null,
   "metadata": {},
   "outputs": [],
   "source": [
    "FERIEN = {{\"name\": \"Herbstferien 2021\",\n",
    "            \"start\": datetime.datetime(2021,2,13),\n",
    "            \"stop\": datetime.datetime(2021,2,21)},\n",
    "          {\"name\": \"Osterferien 2021\"  \n",
    "            \"start\": datetime.datetime(2021,3,31),\n",
    "            \"stop\": datetime.datetime(2021,4,11)\n",
    "          }"
   ]
  },
  {
   "cell_type": "code",
   "execution_count": null,
   "metadata": {},
   "outputs": [],
   "source": [
    "FERIEN[\"name\"]"
   ]
  },
  {
   "cell_type": "code",
   "execution_count": null,
   "metadata": {},
   "outputs": [],
   "source": []
  }
 ],
 "metadata": {
  "kernelspec": {
   "display_name": "Python 3",
   "language": "python",
   "name": "python3"
  },
  "language_info": {
   "codemirror_mode": {
    "name": "ipython",
    "version": 3
   },
   "file_extension": ".py",
   "mimetype": "text/x-python",
   "name": "python",
   "nbconvert_exporter": "python",
   "pygments_lexer": "ipython3",
   "version": "3.7.0"
  }
 },
 "nbformat": 4,
 "nbformat_minor": 4
}
